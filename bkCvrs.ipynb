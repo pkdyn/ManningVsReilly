{
  "cells": [
    {
      "cell_type": "markdown",
      "metadata": {
        "colab_type": "text",
        "id": "view-in-github"
      },
      "source": [
        "<a href=\"https://colab.research.google.com/github/pkdyn/ManningVsReilly/blob/main/bkCvrs.ipynb\" target=\"_parent\"><img src=\"https://colab.research.google.com/assets/colab-badge.svg\" alt=\"Open In Colab\"/></a>"
      ]
    },
    {
      "cell_type": "code",
      "execution_count": 1,
      "metadata": {
        "colab": {
          "base_uri": "https://localhost:8080/"
        },
<<<<<<< HEAD
        "id": "-o817iUxoIak",
        "outputId": "59217069-32e2-4d61-c259-d2b47594cfcb"
=======
        "outputId": "03a41131-53f5-4a3e-871e-91974cd4c536"
>>>>>>> 99967251dca1f4c433ce644d4cd7acf80e0a6a37
      },
      "outputs": [
        {
          "name": "stdout",
          "output_type": "stream",
          "text": [
            "2.5.0\n"
          ]
        }
      ],
      "source": [
        "import numpy as np\n",
        "import pandas as pd\n",
        "import matplotlib.pyplot as plt\n",
        "%matplotlib inline\n",
        "\n",
        "import os\n",
        "\n",
        "import tensorflow as tf\n",
        "print (tf.__version__)\n",
        "from tensorflow import keras\n",
        "\n",
        "from tensorflow.keras.preprocessing.image import load_img\n",
        "from tensorflow.keras.applications.xception import Xception\n",
        "from tensorflow.keras.applications.xception import preprocess_input\n",
        "from tensorflow.keras.applications.xception import decode_predictions\n"
<<<<<<< HEAD
=======
      ],
      "execution_count": 1,
      "outputs": [
        {
          "output_type": "stream",
          "name": "stdout",
          "text": [
            "2.6.0\n"
          ]
        }
>>>>>>> 99967251dca1f4c433ce644d4cd7acf80e0a6a37
      ]
    },
    {
      "cell_type": "code",
      "execution_count": 2,
      "metadata": {
        "colab": {
          "base_uri": "https://localhost:8080/"
        },
        "id": "8B5i5udAYAer",
        "outputId": "1b5f5da0-f5a9-429a-a15a-791a5a620c5b"
      },
      "outputs": [
        {
          "name": "stdout",
          "output_type": "stream",
          "name": "stdout",
          "text": [
            "--2021-09-02 11:42:10--  https://github.com/pkdyn/ManningVsReilly/archive/refs/heads/main.zip\n",
            "Resolving github.com (github.com)... 13.114.40.48\n",
            "Connecting to github.com (github.com)|13.114.40.48|:443... connected.\n",
            "HTTP request sent, awaiting response... 302 Found\n",
            "Location: https://codeload.github.com/pkdyn/ManningVsReilly/zip/refs/heads/main [following]\n",
            "--2021-09-02 11:42:10--  https://codeload.github.com/pkdyn/ManningVsReilly/zip/refs/heads/main\n",
            "Resolving codeload.github.com (codeload.github.com)... 52.193.111.178\n",
            "Connecting to codeload.github.com (codeload.github.com)|52.193.111.178|:443... connected.\n",
            "HTTP request sent, awaiting response... 200 OK\n",
            "Length: unspecified [application/zip]\n",
            "Saving to: ‘main.zip’\n",
            "\n",
            "main.zip                [  <=>               ]   4.51M  14.4MB/s    in 0.3s    \n",
            "\n",
            "2021-09-02 11:42:11 (14.4 MB/s) - ‘main.zip’ saved [4733659]\n",
            "\n"
          ]
        }
      ],
      "source": [
        "\n",
        "!wget --no-check-certificate \\\n",
        "https://github.com/pkdyn/ManningVsReilly/archive/refs/heads/main.zip \n",
        "!unzip -q /content/main.zip\n",
        "!rm /content/main.zip\n",
        "\n"
      ]
    },
    {
      "cell_type": "code",
      "execution_count": 3,
      "metadata": {
        "colab": {
          "base_uri": "https://localhost:8080/"
        },
        "id": "JkeOI3lxfmPS",
        "outputId": "f161e547-9de1-43e7-f896-18129217fef5"
      },
      "outputs": [
        {
          "name": "stdout",
          "output_type": "stream",
          "text": [
            "Found 480 images belonging to 2 classes.\n",
            "Found 120 images belonging to 2 classes.\n"
          ]
        }
      ],
      "source": [
        "from tensorflow.keras.applications.xception import preprocess_input\n",
        "from tensorflow.keras.preprocessing.image import ImageDataGenerator\n",
        "train_datagen = ImageDataGenerator(\n",
        "    rotation_range=30,\n",
        "    width_shift_range=30.0,\n",
        "    height_shift_range=30.0,\n",
        "    shear_range=10.0,\n",
        "    zoom_range=0.2,\n",
        "    horizontal_flip=True,\n",
        "    validation_split=0.2, \n",
        "    preprocessing_function=preprocess_input) \n",
        "\n",
        "train_ds = train_datagen.flow_from_directory(\n",
        "    \"/content/ManningVsReilly-main/cvr_ds/train\",\n",
        "    target_size=(100, 100),\n",
        "    batch_size=32,\n",
        "    shuffle=True,\n",
        "    class_mode='binary',\n",
        "    subset='training') \n",
        "\n",
        "val_ds = train_datagen.flow_from_directory(\n",
        "    \"/content/ManningVsReilly-main/cvr_ds/train\", \n",
        "    target_size=(100, 100),\n",
        "    batch_size=32,\n",
        "    shuffle=True,\n",
        "    class_mode='binary',\n",
        "    subset='validation') \n",
        "\n"
<<<<<<< HEAD
=======
      ],
      "execution_count": 3,
      "outputs": [
        {
          "output_type": "stream",
          "name": "stdout",
          "text": [
            "Found 480 images belonging to 2 classes.\n",
            "Found 120 images belonging to 2 classes.\n"
          ]
        }
>>>>>>> 99967251dca1f4c433ce644d4cd7acf80e0a6a37
      ]
    },
    {
      "cell_type": "code",
      "execution_count": 5,
      "metadata": {
        "id": "6L-dBwoDWxyg"
      },
      "outputs": [],
      "source": [
        "def make_model(learning_rate, droprate, size):\n",
        "    base_model = Xception(\n",
        "        weights='imagenet',\n",
        "        input_shape=(100, 100, 3),\n",
        "        include_top=False\n",
        "    )\n",
        "\n",
        "    base_model.trainable = False\n",
        "\n",
        "    inputs = keras.Input(shape=(100, 100, 3))\n",
        "\n",
        "    base = base_model(inputs, training=False)\n",
        "    vector = keras.layers.GlobalAveragePooling2D()(base)\n",
        "    inner = keras.layers.Dense(size, activation='relu')(vector)\n",
        "    drop = keras.layers.Dropout(droprate)(inner)\n",
        "    outputs = keras.layers.Dense(1, activation='sigmoid')(drop)\n",
        "    model = keras.Model(inputs, outputs)\n",
        "    \n",
        "    model.compile(\n",
        "        optimizer=keras.optimizers.Adam(learning_rate),\n",
        "        loss=keras.losses.BinaryCrossentropy(),\n",
        "        metrics=[\"accuracy\"],\n",
        "    )\n",
        "    \n",
        "    return model"
<<<<<<< HEAD
      ]
=======
      ],
      "execution_count": 4,
      "outputs": []
>>>>>>> 99967251dca1f4c433ce644d4cd7acf80e0a6a37
    },
    {
      "cell_type": "code",
      "execution_count": 6,
      "metadata": {
        "colab": {
          "base_uri": "https://localhost:8080/",
          "height": 1000
        },
        "id": "2Dim70Z_X1LR",
        "outputId": "ffcc22af-0a97-4240-ccd6-cfb133770125"
      },
<<<<<<< HEAD
=======
      "source": [
        "model = make_model(learning_rate=0.001, droprate=0.0, size=10)\n",
        "history_0_001 = model.fit(train_ds, epochs=15, validation_data=val_ds)\n",
        "model = make_model(learning_rate=0.0001, droprate=0.0, size=10)\n",
        "history_0_0001 = model.fit(train_ds, epochs=15, validation_data=val_ds)\n",
        "\n",
        "\n",
        "epochs = np.arange(15)\n",
        "val_0_001 = history_0_001.history['val_accuracy']\n",
        "val_0_0001 = history_0_0001.history['val_accuracy']\n",
        "\n",
        "\n",
        "\n",
        "plt.figure(figsize=(6, 4))\n",
        "\n",
        "plt.plot(epochs, val_0_001, color='blue', linestyle='solid', label='0.001')\n",
        "plt.plot(epochs, val_0_0001, color='green', linestyle='solid', label='0.0001')\n",
        "plt.title('Xception v1, different learning rates')\n",
        "plt.xlabel('Epoch')\n",
        "plt.ylabel('Accuracy')\n",
        "\n",
        "plt.xticks(epochs)\n",
        "plt.legend()\n",
        "plt.show()"
      ],
      "execution_count": 5,
>>>>>>> 99967251dca1f4c433ce644d4cd7acf80e0a6a37
      "outputs": [
        {
          "name": "stdout",
          "output_type": "stream",
          "name": "stdout",
          "text": [
            "Downloading data from https://storage.googleapis.com/tensorflow/keras-applications/xception/xception_weights_tf_dim_ordering_tf_kernels_notop.h5\n",
            "83689472/83683744 [==============================] - 3s 0us/step\n",
            "83697664/83683744 [==============================] - 3s 0us/step\n",
            "Epoch 1/15\n",
            "15/15 [==============================] - 35s 273ms/step - loss: 0.4901 - accuracy: 0.7854 - val_loss: 0.3206 - val_accuracy: 0.9417\n",
            "Epoch 2/15\n",
            "15/15 [==============================] - 3s 174ms/step - loss: 0.1972 - accuracy: 0.9771 - val_loss: 0.1510 - val_accuracy: 0.9500\n",
            "Epoch 3/15\n",
            "15/15 [==============================] - 3s 179ms/step - loss: 0.0983 - accuracy: 0.9708 - val_loss: 0.1173 - val_accuracy: 0.9750\n",
            "Epoch 4/15\n",
            "15/15 [==============================] - 3s 175ms/step - loss: 0.0864 - accuracy: 0.9812 - val_loss: 0.1073 - val_accuracy: 0.9750\n",
            "Epoch 5/15\n",
            "15/15 [==============================] - 3s 173ms/step - loss: 0.0669 - accuracy: 0.9917 - val_loss: 0.0629 - val_accuracy: 0.9833\n",
            "Epoch 6/15\n",
            "15/15 [==============================] - 3s 175ms/step - loss: 0.0798 - accuracy: 0.9812 - val_loss: 0.0795 - val_accuracy: 0.9667\n",
            "Epoch 7/15\n",
            "15/15 [==============================] - 3s 172ms/step - loss: 0.0412 - accuracy: 0.9917 - val_loss: 0.0439 - val_accuracy: 0.9833\n",
            "Epoch 8/15\n",
            "15/15 [==============================] - 3s 171ms/step - loss: 0.0357 - accuracy: 0.9917 - val_loss: 0.0690 - val_accuracy: 0.9750\n",
            "Epoch 9/15\n",
            "15/15 [==============================] - 3s 168ms/step - loss: 0.0323 - accuracy: 0.9979 - val_loss: 0.0800 - val_accuracy: 0.9750\n",
            "Epoch 10/15\n",
            "15/15 [==============================] - 3s 171ms/step - loss: 0.0414 - accuracy: 0.9896 - val_loss: 0.0676 - val_accuracy: 0.9833\n",
            "Epoch 11/15\n",
            "15/15 [==============================] - 3s 173ms/step - loss: 0.0308 - accuracy: 0.9937 - val_loss: 0.0550 - val_accuracy: 0.9750\n",
            "Epoch 12/15\n",
            "15/15 [==============================] - 3s 171ms/step - loss: 0.0319 - accuracy: 0.9875 - val_loss: 0.0366 - val_accuracy: 0.9917\n",
            "Epoch 13/15\n",
            "15/15 [==============================] - 3s 171ms/step - loss: 0.0380 - accuracy: 0.9937 - val_loss: 0.0749 - val_accuracy: 0.9667\n",
            "Epoch 14/15\n",
            "15/15 [==============================] - 3s 170ms/step - loss: 0.0280 - accuracy: 0.9896 - val_loss: 0.0179 - val_accuracy: 0.9917\n",
            "Epoch 15/15\n",
            "15/15 [==============================] - 3s 170ms/step - loss: 0.0493 - accuracy: 0.9896 - val_loss: 0.0474 - val_accuracy: 0.9833\n",
            "Epoch 1/15\n",
            "15/15 [==============================] - 7s 237ms/step - loss: 0.6602 - accuracy: 0.5271 - val_loss: 0.6290 - val_accuracy: 0.5500\n",
            "Epoch 2/15\n",
            "15/15 [==============================] - 3s 169ms/step - loss: 0.6004 - accuracy: 0.6313 - val_loss: 0.5790 - val_accuracy: 0.7083\n",
            "Epoch 3/15\n",
            "15/15 [==============================] - 3s 169ms/step - loss: 0.5465 - accuracy: 0.7792 - val_loss: 0.5047 - val_accuracy: 0.8083\n",
            "Epoch 4/15\n",
            "15/15 [==============================] - 3s 168ms/step - loss: 0.4944 - accuracy: 0.8188 - val_loss: 0.4710 - val_accuracy: 0.8917\n",
            "Epoch 5/15\n",
            "15/15 [==============================] - 3s 169ms/step - loss: 0.4465 - accuracy: 0.8854 - val_loss: 0.4177 - val_accuracy: 0.9167\n",
            "Epoch 6/15\n",
            "15/15 [==============================] - 3s 168ms/step - loss: 0.3864 - accuracy: 0.9229 - val_loss: 0.4032 - val_accuracy: 0.8833\n",
            "Epoch 7/15\n",
            "15/15 [==============================] - 3s 171ms/step - loss: 0.3600 - accuracy: 0.9167 - val_loss: 0.3322 - val_accuracy: 0.9417\n",
            "Epoch 8/15\n",
            "15/15 [==============================] - 3s 169ms/step - loss: 0.3325 - accuracy: 0.9604 - val_loss: 0.3327 - val_accuracy: 0.9500\n",
            "Epoch 9/15\n",
            "15/15 [==============================] - 3s 169ms/step - loss: 0.3017 - accuracy: 0.9479 - val_loss: 0.2982 - val_accuracy: 0.9333\n",
            "Epoch 10/15\n",
            "15/15 [==============================] - 3s 170ms/step - loss: 0.2824 - accuracy: 0.9563 - val_loss: 0.2843 - val_accuracy: 0.9750\n",
            "Epoch 11/15\n",
            "15/15 [==============================] - 3s 169ms/step - loss: 0.2636 - accuracy: 0.9542 - val_loss: 0.2687 - val_accuracy: 0.9500\n",
            "Epoch 12/15\n",
            "15/15 [==============================] - 3s 169ms/step - loss: 0.2485 - accuracy: 0.9625 - val_loss: 0.2403 - val_accuracy: 0.9750\n",
            "Epoch 13/15\n",
            "15/15 [==============================] - 3s 169ms/step - loss: 0.2162 - accuracy: 0.9854 - val_loss: 0.2291 - val_accuracy: 0.9667\n",
            "Epoch 14/15\n",
            "15/15 [==============================] - 3s 167ms/step - loss: 0.2030 - accuracy: 0.9646 - val_loss: 0.2176 - val_accuracy: 0.9333\n",
            "Epoch 15/15\n",
<<<<<<< HEAD
            "15/15 [==============================] - 2s 133ms/step - loss: 0.1241 - accuracy: 0.9812 - val_loss: 0.1432 - val_accuracy: 0.9583\n"
=======
            "15/15 [==============================] - 3s 168ms/step - loss: 0.1850 - accuracy: 0.9812 - val_loss: 0.1987 - val_accuracy: 0.9583\n"
>>>>>>> 99967251dca1f4c433ce644d4cd7acf80e0a6a37
          ]
        },
        {
          "data": {
<<<<<<< HEAD
            "image/png": "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",
=======
            "image/png": "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\n",
>>>>>>> 99967251dca1f4c433ce644d4cd7acf80e0a6a37
            "text/plain": [
              "<Figure size 432x288 with 1 Axes>"
            ]
          },
          "metadata": {
<<<<<<< HEAD
            "needs_background": "light",
            "tags": []
          },
          "output_type": "display_data"
        }
      ],
=======
            "needs_background": "light"
          }
        }
      ]
    },
    {
      "cell_type": "code",
      "metadata": {
        "colab": {
          "base_uri": "https://localhost:8080/",
          "height": 1000
        },
        "id": "_y3uQwRBsMe5",
        "outputId": "29ca712a-adcf-478f-c615-ec69b056898f"
      },
>>>>>>> 99967251dca1f4c433ce644d4cd7acf80e0a6a37
      "source": [
        "model = make_model(learning_rate=0.001, droprate=0.0, size=10)\n",
        "history_0_001 = model.fit(train_ds, epochs=15, validation_data=val_ds)\n",
        "model = make_model(learning_rate=0.0001, droprate=0.0, size=10)\n",
        "history_0_0001 = model.fit(train_ds, epochs=15, validation_data=val_ds)\n",
        "\n",
        "\n",
        "epochs = np.arange(15)\n",
        "val_0_001 = history_0_001.history['val_accuracy']\n",
        "val_0_0001 = history_0_0001.history['val_accuracy']\n",
        "\n",
        "\n",
        "plt.figure(figsize=(6, 4))\n",
        "\n",
        "plt.plot(epochs, val_0_001, color='blue', linestyle='solid', label='0.001')\n",
        "plt.plot(epochs, val_0_0001, color='green', linestyle='solid', label='0.0001')\n",
        "plt.title('Xception v1, different learning rates')\n",
        "plt.xlabel('Epoch')\n",
        "plt.ylabel('Accuracy')\n",
        "\n",
        "plt.xticks(epochs)\n",
        "plt.legend()\n",
        "plt.show()"
<<<<<<< HEAD
      ]
    },
    {
      "cell_type": "code",
      "execution_count": 7,
      "metadata": {
        "colab": {
          "base_uri": "https://localhost:8080/",
          "height": 1000
        },
        "id": "_y3uQwRBsMe5",
        "outputId": "4fde7639-ab4a-493d-ba5e-2dcd0a20bafe"
      },
      "outputs": [
        {
=======
      ],
      "execution_count": 6,
      "outputs": [
        {
          "metadata": {
            "tags": null
          },
>>>>>>> 99967251dca1f4c433ce644d4cd7acf80e0a6a37
          "name": "stdout",
          "output_type": "stream",
          "text": [
            "Epoch 1/15\n",
            "15/15 [==============================] - 6s 244ms/step - loss: 0.5327 - accuracy: 0.7333 - val_loss: 0.3043 - val_accuracy: 0.9083\n",
            "Epoch 2/15\n",
            "15/15 [==============================] - 3s 175ms/step - loss: 0.3566 - accuracy: 0.8562 - val_loss: 0.2233 - val_accuracy: 0.9417\n",
            "Epoch 3/15\n",
            "15/15 [==============================] - 3s 175ms/step - loss: 0.3038 - accuracy: 0.8875 - val_loss: 0.1899 - val_accuracy: 0.9417\n",
            "Epoch 4/15\n",
            "15/15 [==============================] - 3s 182ms/step - loss: 0.2733 - accuracy: 0.8938 - val_loss: 0.1172 - val_accuracy: 0.9667\n",
            "Epoch 5/15\n",
            "15/15 [==============================] - 3s 177ms/step - loss: 0.2642 - accuracy: 0.9125 - val_loss: 0.1457 - val_accuracy: 0.9500\n",
            "Epoch 6/15\n",
            "15/15 [==============================] - 3s 177ms/step - loss: 0.2239 - accuracy: 0.9417 - val_loss: 0.1303 - val_accuracy: 0.9667\n",
            "Epoch 7/15\n",
            "15/15 [==============================] - 3s 176ms/step - loss: 0.2259 - accuracy: 0.9250 - val_loss: 0.1393 - val_accuracy: 0.9500\n",
            "Epoch 8/15\n",
            "15/15 [==============================] - 3s 175ms/step - loss: 0.1842 - accuracy: 0.9396 - val_loss: 0.1160 - val_accuracy: 0.9917\n",
            "Epoch 9/15\n",
            "15/15 [==============================] - 3s 175ms/step - loss: 0.2121 - accuracy: 0.9292 - val_loss: 0.1257 - val_accuracy: 0.9500\n",
            "Epoch 10/15\n",
            "15/15 [==============================] - 3s 174ms/step - loss: 0.1672 - accuracy: 0.9521 - val_loss: 0.0888 - val_accuracy: 0.9750\n",
            "Epoch 11/15\n",
            "15/15 [==============================] - 3s 173ms/step - loss: 0.1859 - accuracy: 0.9500 - val_loss: 0.0878 - val_accuracy: 0.9750\n",
            "Epoch 12/15\n",
            "15/15 [==============================] - 3s 174ms/step - loss: 0.1507 - accuracy: 0.9521 - val_loss: 0.0614 - val_accuracy: 0.9917\n",
            "Epoch 13/15\n",
            "15/15 [==============================] - 3s 174ms/step - loss: 0.1972 - accuracy: 0.9333 - val_loss: 0.0760 - val_accuracy: 0.9750\n",
            "Epoch 14/15\n",
            "15/15 [==============================] - 3s 171ms/step - loss: 0.1482 - accuracy: 0.9375 - val_loss: 0.0542 - val_accuracy: 0.9833\n",
            "Epoch 15/15\n",
            "15/15 [==============================] - 3s 171ms/step - loss: 0.1473 - accuracy: 0.9542 - val_loss: 0.0569 - val_accuracy: 0.9917\n",
            "Epoch 1/15\n",
            "15/15 [==============================] - 6s 240ms/step - loss: 0.4995 - accuracy: 0.7688 - val_loss: 0.2797 - val_accuracy: 0.9250\n",
            "Epoch 2/15\n",
            "15/15 [==============================] - 3s 171ms/step - loss: 0.2646 - accuracy: 0.9125 - val_loss: 0.1769 - val_accuracy: 0.9417\n",
            "Epoch 3/15\n",
            "15/15 [==============================] - 3s 172ms/step - loss: 0.1952 - accuracy: 0.9333 - val_loss: 0.0686 - val_accuracy: 0.9917\n",
            "Epoch 4/15\n",
            "15/15 [==============================] - 3s 169ms/step - loss: 0.1551 - accuracy: 0.9646 - val_loss: 0.1054 - val_accuracy: 0.9667\n",
            "Epoch 5/15\n",
            "15/15 [==============================] - 3s 169ms/step - loss: 0.1418 - accuracy: 0.9604 - val_loss: 0.0630 - val_accuracy: 0.9833\n",
            "Epoch 6/15\n",
            "15/15 [==============================] - 3s 172ms/step - loss: 0.1133 - accuracy: 0.9563 - val_loss: 0.0807 - val_accuracy: 0.9750\n",
            "Epoch 7/15\n",
            "15/15 [==============================] - 3s 172ms/step - loss: 0.1205 - accuracy: 0.9521 - val_loss: 0.0835 - val_accuracy: 0.9750\n",
            "Epoch 8/15\n",
            "15/15 [==============================] - 3s 172ms/step - loss: 0.1108 - accuracy: 0.9729 - val_loss: 0.0657 - val_accuracy: 0.9917\n",
            "Epoch 9/15\n",
            "15/15 [==============================] - 3s 171ms/step - loss: 0.1027 - accuracy: 0.9667 - val_loss: 0.0359 - val_accuracy: 0.9917\n",
            "Epoch 10/15\n",
            "15/15 [==============================] - 3s 169ms/step - loss: 0.0738 - accuracy: 0.9833 - val_loss: 0.0352 - val_accuracy: 0.9917\n",
            "Epoch 11/15\n",
            "15/15 [==============================] - 3s 171ms/step - loss: 0.0714 - accuracy: 0.9771 - val_loss: 0.0744 - val_accuracy: 0.9833\n",
            "Epoch 12/15\n",
            "15/15 [==============================] - 3s 172ms/step - loss: 0.1088 - accuracy: 0.9646 - val_loss: 0.0601 - val_accuracy: 0.9667\n",
            "Epoch 13/15\n",
            "15/15 [==============================] - 3s 174ms/step - loss: 0.0960 - accuracy: 0.9792 - val_loss: 0.0417 - val_accuracy: 0.9833\n",
            "Epoch 14/15\n",
            "15/15 [==============================] - 3s 172ms/step - loss: 0.0643 - accuracy: 0.9792 - val_loss: 0.0452 - val_accuracy: 0.9833\n",
            "Epoch 15/15\n",
            "15/15 [==============================] - 3s 179ms/step - loss: 0.0664 - accuracy: 0.9833 - val_loss: 0.0412 - val_accuracy: 0.9917\n",
            "Epoch 1/15\n",
            "15/15 [==============================] - 7s 237ms/step - loss: 0.7176 - accuracy: 0.5729 - val_loss: 0.5187 - val_accuracy: 0.8750\n",
            "Epoch 2/15\n",
            "15/15 [==============================] - 3s 170ms/step - loss: 0.5565 - accuracy: 0.6646 - val_loss: 0.3719 - val_accuracy: 0.9500\n",
            "Epoch 3/15\n",
            "15/15 [==============================] - 3s 170ms/step - loss: 0.4447 - accuracy: 0.7500 - val_loss: 0.3031 - val_accuracy: 0.9333\n",
            "Epoch 4/15\n",
            "15/15 [==============================] - 3s 172ms/step - loss: 0.4007 - accuracy: 0.7854 - val_loss: 0.2247 - val_accuracy: 0.9500\n",
            "Epoch 5/15\n",
            "15/15 [==============================] - 3s 170ms/step - loss: 0.3916 - accuracy: 0.7729 - val_loss: 0.2248 - val_accuracy: 0.9500\n",
            "Epoch 6/15\n",
            "15/15 [==============================] - 3s 171ms/step - loss: 0.3855 - accuracy: 0.7875 - val_loss: 0.1900 - val_accuracy: 0.9833\n",
            "Epoch 7/15\n",
            "15/15 [==============================] - 3s 171ms/step - loss: 0.3768 - accuracy: 0.8125 - val_loss: 0.1783 - val_accuracy: 0.9833\n",
            "Epoch 8/15\n",
            "15/15 [==============================] - 3s 174ms/step - loss: 0.3794 - accuracy: 0.7958 - val_loss: 0.1400 - val_accuracy: 0.9750\n",
            "Epoch 9/15\n",
            "15/15 [==============================] - 3s 173ms/step - loss: 0.3666 - accuracy: 0.7896 - val_loss: 0.1728 - val_accuracy: 0.9583\n",
            "Epoch 10/15\n",
            "15/15 [==============================] - 3s 173ms/step - loss: 0.3211 - accuracy: 0.8292 - val_loss: 0.1676 - val_accuracy: 0.9500\n",
            "Epoch 11/15\n",
            "15/15 [==============================] - 3s 172ms/step - loss: 0.3358 - accuracy: 0.7937 - val_loss: 0.1108 - val_accuracy: 0.9750\n",
            "Epoch 12/15\n",
            "15/15 [==============================] - 3s 172ms/step - loss: 0.3135 - accuracy: 0.8167 - val_loss: 0.1350 - val_accuracy: 0.9750\n",
            "Epoch 13/15\n",
            "15/15 [==============================] - 3s 173ms/step - loss: 0.3183 - accuracy: 0.8021 - val_loss: 0.1185 - val_accuracy: 0.9750\n",
            "Epoch 14/15\n",
            "15/15 [==============================] - 3s 173ms/step - loss: 0.3150 - accuracy: 0.8375 - val_loss: 0.1339 - val_accuracy: 0.9833\n",
            "Epoch 15/15\n",
            "15/15 [==============================] - 3s 172ms/step - loss: 0.2999 - accuracy: 0.8333 - val_loss: 0.1215 - val_accuracy: 0.9833\n",
            "Epoch 1/15\n",
            "15/15 [==============================] - 7s 247ms/step - loss: 0.6115 - accuracy: 0.6646 - val_loss: 0.3378 - val_accuracy: 0.9250\n",
            "Epoch 2/15\n",
            "15/15 [==============================] - 3s 174ms/step - loss: 0.3795 - accuracy: 0.8521 - val_loss: 0.2399 - val_accuracy: 0.9500\n",
            "Epoch 3/15\n",
            "15/15 [==============================] - 3s 173ms/step - loss: 0.2701 - accuracy: 0.8896 - val_loss: 0.1836 - val_accuracy: 0.9500\n",
            "Epoch 4/15\n",
            "15/15 [==============================] - 3s 172ms/step - loss: 0.2219 - accuracy: 0.9042 - val_loss: 0.1516 - val_accuracy: 0.9500\n",
            "Epoch 5/15\n",
            "15/15 [==============================] - 3s 170ms/step - loss: 0.2416 - accuracy: 0.8938 - val_loss: 0.1268 - val_accuracy: 0.9667\n",
            "Epoch 6/15\n",
            "15/15 [==============================] - 3s 173ms/step - loss: 0.2246 - accuracy: 0.9146 - val_loss: 0.0735 - val_accuracy: 0.9917\n",
            "Epoch 7/15\n",
            "15/15 [==============================] - 3s 170ms/step - loss: 0.1562 - accuracy: 0.9458 - val_loss: 0.0721 - val_accuracy: 0.9833\n",
            "Epoch 8/15\n",
            "15/15 [==============================] - 3s 171ms/step - loss: 0.1211 - accuracy: 0.9542 - val_loss: 0.0659 - val_accuracy: 0.9917\n",
            "Epoch 9/15\n",
            "15/15 [==============================] - 3s 169ms/step - loss: 0.1188 - accuracy: 0.9646 - val_loss: 0.0587 - val_accuracy: 0.9833\n",
            "Epoch 10/15\n",
            "15/15 [==============================] - 3s 172ms/step - loss: 0.1419 - accuracy: 0.9563 - val_loss: 0.0680 - val_accuracy: 0.9833\n",
            "Epoch 11/15\n",
            "15/15 [==============================] - 3s 170ms/step - loss: 0.1301 - accuracy: 0.9500 - val_loss: 0.1234 - val_accuracy: 0.9583\n",
            "Epoch 12/15\n",
            "15/15 [==============================] - 3s 171ms/step - loss: 0.1176 - accuracy: 0.9583 - val_loss: 0.0207 - val_accuracy: 1.0000\n",
            "Epoch 13/15\n",
            "15/15 [==============================] - 3s 172ms/step - loss: 0.0958 - accuracy: 0.9563 - val_loss: 0.0739 - val_accuracy: 0.9750\n",
            "Epoch 14/15\n",
            "15/15 [==============================] - 3s 172ms/step - loss: 0.1333 - accuracy: 0.9479 - val_loss: 0.0925 - val_accuracy: 0.9750\n",
            "Epoch 15/15\n",
<<<<<<< HEAD
            "15/15 [==============================] - 2s 133ms/step - loss: 0.1141 - accuracy: 0.9583 - val_loss: 0.0580 - val_accuracy: 0.9833\n"
=======
            "15/15 [==============================] - 3s 170ms/step - loss: 0.1156 - accuracy: 0.9583 - val_loss: 0.0458 - val_accuracy: 0.9833\n"
>>>>>>> 99967251dca1f4c433ce644d4cd7acf80e0a6a37
          ]
        },
        {
          "data": {
<<<<<<< HEAD
            "image/png": "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",
=======
            "image/png": "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\n",
>>>>>>> 99967251dca1f4c433ce644d4cd7acf80e0a6a37
            "text/plain": [
              "<Figure size 432x288 with 1 Axes>"
            ]
          },
<<<<<<< HEAD
          "metadata": {
            "needs_background": "light",
            "tags": []
          },
=======
          "metadata": {},
>>>>>>> 99967251dca1f4c433ce644d4cd7acf80e0a6a37
          "output_type": "display_data"
        }
      ],
      "source": [
        "\n",
        "model = make_model(learning_rate=0.001, droprate=0.6, size=10)\n",
        "history_10_6_001 = model.fit(train_ds, epochs=15, validation_data=val_ds)\n",
        "model = make_model(learning_rate=0.001, droprate=0.6, size=25)\n",
        "history_25_6_001 = model.fit(train_ds, epochs=15, validation_data=val_ds)\n",
        "\n",
        "\n",
        "model = make_model(learning_rate=0.001, droprate=0.7, size=10)\n",
        "history_10_7_001 = model.fit(train_ds, epochs=15, validation_data=val_ds)\n",
        "model = make_model(learning_rate=0.001, droprate=0.7, size=25)\n",
        "history_25_7_001 = model.fit(train_ds, epochs=15, validation_data=val_ds)\n",
        "\n",
        "\n",
        "epochs = np.arange(15)\n",
        "val_10_6_001 = history_10_6_001.history['val_accuracy']\n",
        "val_25_6_001 = history_25_6_001.history['val_accuracy']\n",
        "\n",
        "val_10_7_001 = history_10_7_001.history['val_accuracy']\n",
        "val_25_7_001 = history_25_7_001.history['val_accuracy']\n",
        "\n",
        "plt.figure(figsize=(6, 4))\n",
        "plt.plot(epochs, val_10_6_001, color='green', linestyle='dotted', label='0.001, 0.6, 10')\n",
        "plt.plot(epochs, val_25_6_001, color='green', linestyle='solid', label='0.001, 0.6, 25')\n",
        "\n",
        "plt.plot(epochs, val_10_7_001, color='blue', linestyle='dotted', label='0.001, 0.7, 10')\n",
        "plt.plot(epochs, val_25_7_001, color='blue', linestyle='solid', label='0.001, 0.7, 25')\n",
        "\n",
        "plt.title('Xception v2, different inner layer sizes ')\n",
        "plt.xlabel('Epoch')\n",
        "plt.ylabel('Accuracy')\n",
        "plt.xticks(epochs)\n",
        "plt.legend()\n",
        "plt.show()"
      ]
    },
    {
      "cell_type": "code",
      "execution_count": 8,
      "metadata": {
        "colab": {
          "base_uri": "https://localhost:8080/"
        },
        "id": "UTltqceU3AyF",
        "outputId": "5e3572c4-9be2-4d38-bf08-afe839641c74"
      },
<<<<<<< HEAD
=======
      "source": [
        "checkpoint = keras.callbacks.ModelCheckpoint(\n",
        "\"xception_v1_{epoch:02d}_{val_accuracy:.3f}.h5\", #A\n",
        "save_best_only=True, #B\n",
        "monitor=\"val_accuracy\" #C\n",
        ")\n",
        "\n",
        "model = make_model(learning_rate=0.001, droprate=0.6, size=25)\n",
        "\n",
        "model.fit(train_ds, epochs=30, validation_data=val_ds, callbacks=[checkpoint])\n"
      ],
      "execution_count": 7,
>>>>>>> 99967251dca1f4c433ce644d4cd7acf80e0a6a37
      "outputs": [
        {
          "name": "stdout",
          "output_type": "stream",
          "name": "stdout",
          "text": [
            "Epoch 1/30\n",
            "15/15 [==============================] - 7s 244ms/step - loss: 0.4916 - accuracy: 0.7542 - val_loss: 0.2973 - val_accuracy: 0.8833\n"
          ]
        },
        {
          "output_type": "stream",
          "name": "stderr",
          "text": [
            "/usr/local/lib/python3.7/dist-packages/keras/utils/generic_utils.py:497: CustomMaskWarning: Custom mask layers require a config and must override get_config. When loading, the custom mask layer must be passed to the custom_objects argument.\n",
            "  category=CustomMaskWarning)\n"
          ]
        },
        {
          "output_type": "stream",
          "name": "stdout",
          "text": [
            "Epoch 2/30\n",
            "15/15 [==============================] - 3s 179ms/step - loss: 0.2527 - accuracy: 0.9125 - val_loss: 0.1403 - val_accuracy: 0.9667\n",
            "Epoch 3/30\n",
            "15/15 [==============================] - 3s 178ms/step - loss: 0.2014 - accuracy: 0.9333 - val_loss: 0.0811 - val_accuracy: 0.9833\n",
            "Epoch 4/30\n",
            "15/15 [==============================] - 3s 177ms/step - loss: 0.1301 - accuracy: 0.9708 - val_loss: 0.0942 - val_accuracy: 0.9750\n",
            "Epoch 5/30\n",
            "15/15 [==============================] - 3s 177ms/step - loss: 0.1360 - accuracy: 0.9521 - val_loss: 0.0773 - val_accuracy: 0.9833\n",
            "Epoch 6/30\n",
            "15/15 [==============================] - 3s 178ms/step - loss: 0.0973 - accuracy: 0.9708 - val_loss: 0.0856 - val_accuracy: 0.9833\n",
            "Epoch 7/30\n",
            "15/15 [==============================] - 3s 173ms/step - loss: 0.0962 - accuracy: 0.9729 - val_loss: 0.0527 - val_accuracy: 0.9917\n",
            "Epoch 8/30\n",
            "15/15 [==============================] - 3s 174ms/step - loss: 0.0739 - accuracy: 0.9750 - val_loss: 0.0291 - val_accuracy: 1.0000\n",
            "Epoch 9/30\n",
            "15/15 [==============================] - 3s 175ms/step - loss: 0.1010 - accuracy: 0.9771 - val_loss: 0.0627 - val_accuracy: 0.9833\n",
            "Epoch 10/30\n",
            "15/15 [==============================] - 3s 175ms/step - loss: 0.0863 - accuracy: 0.9729 - val_loss: 0.0550 - val_accuracy: 0.9833\n",
            "Epoch 11/30\n",
            "15/15 [==============================] - 3s 173ms/step - loss: 0.0977 - accuracy: 0.9771 - val_loss: 0.0822 - val_accuracy: 0.9833\n",
            "Epoch 12/30\n",
            "15/15 [==============================] - 3s 174ms/step - loss: 0.1190 - accuracy: 0.9729 - val_loss: 0.0312 - val_accuracy: 1.0000\n",
            "Epoch 13/30\n",
            "15/15 [==============================] - 3s 172ms/step - loss: 0.0720 - accuracy: 0.9771 - val_loss: 0.0395 - val_accuracy: 0.9750\n",
            "Epoch 14/30\n",
            "15/15 [==============================] - 3s 173ms/step - loss: 0.0653 - accuracy: 0.9750 - val_loss: 0.0461 - val_accuracy: 0.9667\n",
            "Epoch 15/30\n",
            "15/15 [==============================] - 3s 174ms/step - loss: 0.0800 - accuracy: 0.9667 - val_loss: 0.0518 - val_accuracy: 0.9917\n",
            "Epoch 16/30\n",
            "15/15 [==============================] - 3s 173ms/step - loss: 0.0545 - accuracy: 0.9854 - val_loss: 0.0975 - val_accuracy: 0.9750\n",
            "Epoch 17/30\n",
            "15/15 [==============================] - 3s 174ms/step - loss: 0.0576 - accuracy: 0.9917 - val_loss: 0.0600 - val_accuracy: 0.9750\n",
            "Epoch 18/30\n",
            "15/15 [==============================] - 3s 173ms/step - loss: 0.0500 - accuracy: 0.9854 - val_loss: 0.0680 - val_accuracy: 0.9750\n",
            "Epoch 19/30\n",
            "15/15 [==============================] - 3s 172ms/step - loss: 0.0479 - accuracy: 0.9854 - val_loss: 0.0323 - val_accuracy: 0.9917\n",
            "Epoch 20/30\n",
            "15/15 [==============================] - 3s 173ms/step - loss: 0.0586 - accuracy: 0.9812 - val_loss: 0.0468 - val_accuracy: 0.9917\n",
            "Epoch 21/30\n",
            "15/15 [==============================] - 3s 172ms/step - loss: 0.0783 - accuracy: 0.9875 - val_loss: 0.0257 - val_accuracy: 0.9917\n",
            "Epoch 22/30\n",
            "15/15 [==============================] - 3s 172ms/step - loss: 0.0723 - accuracy: 0.9833 - val_loss: 0.0410 - val_accuracy: 0.9917\n",
            "Epoch 23/30\n",
            "15/15 [==============================] - 3s 172ms/step - loss: 0.0614 - accuracy: 0.9854 - val_loss: 0.0135 - val_accuracy: 1.0000\n",
            "Epoch 24/30\n",
            "15/15 [==============================] - 3s 171ms/step - loss: 0.0553 - accuracy: 0.9833 - val_loss: 0.0136 - val_accuracy: 1.0000\n",
            "Epoch 25/30\n",
            "15/15 [==============================] - 3s 167ms/step - loss: 0.0614 - accuracy: 0.9792 - val_loss: 0.0531 - val_accuracy: 0.9667\n",
            "Epoch 26/30\n",
            "15/15 [==============================] - 3s 168ms/step - loss: 0.0521 - accuracy: 0.9937 - val_loss: 0.0588 - val_accuracy: 0.9750\n",
            "Epoch 27/30\n",
            "15/15 [==============================] - 3s 170ms/step - loss: 0.0631 - accuracy: 0.9750 - val_loss: 0.0129 - val_accuracy: 1.0000\n",
            "Epoch 28/30\n",
            "15/15 [==============================] - 3s 168ms/step - loss: 0.0268 - accuracy: 0.9917 - val_loss: 0.0149 - val_accuracy: 1.0000\n",
            "Epoch 29/30\n",
            "15/15 [==============================] - 3s 170ms/step - loss: 0.0413 - accuracy: 0.9854 - val_loss: 0.0926 - val_accuracy: 0.9667\n",
            "Epoch 30/30\n",
<<<<<<< HEAD
            "15/15 [==============================] - 2s 134ms/step - loss: 0.0519 - accuracy: 0.9854 - val_loss: 0.0431 - val_accuracy: 0.9750\n"
=======
            "15/15 [==============================] - 3s 167ms/step - loss: 0.0265 - accuracy: 0.9979 - val_loss: 0.0427 - val_accuracy: 0.9833\n"
>>>>>>> 99967251dca1f4c433ce644d4cd7acf80e0a6a37
          ]
        },
        {
          "data": {
            "text/plain": [
              "<keras.callbacks.History at 0x7f94364430d0>"
            ]
          },
<<<<<<< HEAD
          "execution_count": 8,
          "metadata": {
            "tags": []
          },
          "output_type": "execute_result"
=======
          "metadata": {},
          "execution_count": 7
>>>>>>> 99967251dca1f4c433ce644d4cd7acf80e0a6a37
        }
      ],
      "source": [
        "model = make_model(learning_rate=0.001, droprate=0.6, size=25)\n",
        "model.fit(train_ds, epochs=30, validation_data=val_ds)"
      ]
    },
    {
      "cell_type": "code",
      "execution_count": 10,
      "metadata": {
        "colab": {
          "base_uri": "https://localhost:8080/",
          "height": 1000,
          "resources": {
            "http://localhost:8080/nbextensions/google.colab/files.js": {
              "data": "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",
              "headers": [
                [
                  "content-type",
                  "application/javascript"
                ]
              ],
              "ok": true,
              "status": 200,
              "status_text": ""
            }
          }
        },
        "id": "TpIdRisVEKUg",
        "outputId": "23662eb2-996b-4c91-ae3b-daa66f2e1f4f"
      },
<<<<<<< HEAD
=======
      "source": [
        "from keras.preprocessing import image\n",
        "from google.colab import files\n",
        "uploaded = files.upload()\n",
        "for fn in uploaded.keys():\n",
        "\n",
        "  path= '/content/' + fn\n",
        "  img = image.load_img(path, target_size=(100, 100))\n",
        "  x = np.array(img)\n",
        "  X = np.array([x])\n",
        "  X = preprocess_input(X)\n",
        "  pred = model.predict(X)\n",
        "  print(pred)\n",
        "  print(pred[0])\n",
        "  if pred[0]>0.5:\n",
        "    print(fn + \" is an O'Reilly book\")\n",
        "  else:\n",
        "    print(fn + \" is a Manning book\")"
      ],
      "execution_count": 8,
>>>>>>> 99967251dca1f4c433ce644d4cd7acf80e0a6a37
      "outputs": [
        {
          "data": {
            "text/html": [
              "\n",
              "     <input type=\"file\" id=\"files-ebbaf593-c669-4616-8ba7-9037c5dc2ece\" name=\"files[]\" multiple disabled\n",
              "        style=\"border:none\" />\n",
              "     <output id=\"result-ebbaf593-c669-4616-8ba7-9037c5dc2ece\">\n",
              "      Upload widget is only available when the cell has been executed in the\n",
              "      current browser session. Please rerun this cell to enable.\n",
              "      </output>\n",
              "      <script src=\"/nbextensions/google.colab/files.js\"></script> "
            ],
            "text/plain": [
              "<IPython.core.display.HTML object>"
            ]
          },
<<<<<<< HEAD
          "metadata": {
            "tags": []
          },
          "output_type": "display_data"
=======
          "metadata": {}
>>>>>>> 99967251dca1f4c433ce644d4cd7acf80e0a6a37
        },
        {
          "name": "stdout",
          "output_type": "stream",
          "name": "stdout",
          "text": [
            "Saving 0e23cee3e14fbc65fd455a1992f6aa5d.jpg to 0e23cee3e14fbc65fd455a1992f6aa5d.jpg\n",
            "Saving 1e651dc6f9f054acc6fba6d217fb78a1.jpg to 1e651dc6f9f054acc6fba6d217fb78a1.jpg\n",
            "Saving 3d313cc165455123cb9c7d71c508481c.jpg to 3d313cc165455123cb9c7d71c508481c.jpg\n",
            "Saving 3e0319aad43f2d3b44813e43e43ad4ce.jpg to 3e0319aad43f2d3b44813e43e43ad4ce.jpg\n",
            "Saving 7b87e4c71c174cc2ba73730cd1091026.jpg to 7b87e4c71c174cc2ba73730cd1091026.jpg\n",
            "Saving 7bfefd8d49a674fe186388bdb5927432.jpg to 7bfefd8d49a674fe186388bdb5927432.jpg\n",
            "Saving 7c3455f77c8ff86110e07859215b6b97.jpg to 7c3455f77c8ff86110e07859215b6b97.jpg\n",
            "Saving 44b617061614853f0a492756e0a72df5.jpg to 44b617061614853f0a492756e0a72df5.jpg\n",
            "Saving 45b16e5f9e6d7af59c62bbe82e2ceef8.jpg to 45b16e5f9e6d7af59c62bbe82e2ceef8.jpg\n",
            "Saving 61c39504fbe9c641dd3c4f5ddb25d1b6.jpg to 61c39504fbe9c641dd3c4f5ddb25d1b6.jpg\n",
            "Saving 67bf0162f8fffe603ab2171e15878aec.jpg to 67bf0162f8fffe603ab2171e15878aec.jpg\n",
            "Saving 596c1d3c55b73ed374a7fba8d856589e.jpg to 596c1d3c55b73ed374a7fba8d856589e.jpg\n",
            "Saving 1491af1f0e5cd74158badf3ae05db33f.jpg to 1491af1f0e5cd74158badf3ae05db33f.jpg\n",
            "Saving 97298d078976333d5942e373b495f90c.jpg to 97298d078976333d5942e373b495f90c.jpg\n",
            "Saving 472392b1da72c54c42aec8e3aaf00d49.png to 472392b1da72c54c42aec8e3aaf00d49.png\n",
            "Saving 19380782e637f2e76e8eb478380b5cad.png to 19380782e637f2e76e8eb478380b5cad.png\n",
            "Saving aeb317ed514af833de85a70b49e98669.png to aeb317ed514af833de85a70b49e98669.png\n",
            "Saving c9dc6eb7abc701c80e1a001966523221.png to c9dc6eb7abc701c80e1a001966523221.png\n",
            "Saving c45a9a0aed6ef9fa7365394cecd5efa9.jpg to c45a9a0aed6ef9fa7365394cecd5efa9.jpg\n",
            "Saving d3e78742f82478ac3d46a4a4bb32ccfd.png to d3e78742f82478ac3d46a4a4bb32ccfd.png\n",
            "Saving d7bafb2748af0e6afffd0a7ec86ea28d.jpg to d7bafb2748af0e6afffd0a7ec86ea28d.jpg\n",
            "Saving dcb33f06f6146235aeb6f455bde5f2b4.jpg to dcb33f06f6146235aeb6f455bde5f2b4.jpg\n",
            "Saving e62df8408d0da9a2824cef9593167645.png to e62df8408d0da9a2824cef9593167645.png\n",
            "Saving eda7c92e8e0efb964f2dd0b02fd1b553.jpg to eda7c92e8e0efb964f2dd0b02fd1b553.jpg\n",
            "[[0.000101]]\n",
            "[0.000101]\n",
            "0e23cee3e14fbc65fd455a1992f6aa5d.jpg is a Manning book\n",
            "[[0.00301468]]\n",
            "[0.00301468]\n",
            "1e651dc6f9f054acc6fba6d217fb78a1.jpg is a Manning book\n",
            "[[0.00407679]]\n",
            "[0.00407679]\n",
            "3d313cc165455123cb9c7d71c508481c.jpg is a Manning book\n",
            "[[0.04668299]]\n",
            "[0.04668299]\n",
            "3e0319aad43f2d3b44813e43e43ad4ce.jpg is a Manning book\n",
            "[[0.10107693]]\n",
            "[0.10107693]\n",
            "7b87e4c71c174cc2ba73730cd1091026.jpg is a Manning book\n",
            "[[0.00145476]]\n",
            "[0.00145476]\n",
            "7bfefd8d49a674fe186388bdb5927432.jpg is a Manning book\n",
            "[[0.00132791]]\n",
            "[0.00132791]\n",
            "7c3455f77c8ff86110e07859215b6b97.jpg is a Manning book\n",
            "[[0.04519503]]\n",
            "[0.04519503]\n",
            "44b617061614853f0a492756e0a72df5.jpg is a Manning book\n",
            "[[0.00010056]]\n",
            "[0.00010056]\n",
            "45b16e5f9e6d7af59c62bbe82e2ceef8.jpg is a Manning book\n",
            "[[0.01312476]]\n",
            "[0.01312476]\n",
            "61c39504fbe9c641dd3c4f5ddb25d1b6.jpg is a Manning book\n",
            "[[0.01164016]]\n",
            "[0.01164016]\n",
            "67bf0162f8fffe603ab2171e15878aec.jpg is a Manning book\n",
            "[[0.0003437]]\n",
            "[0.0003437]\n",
            "596c1d3c55b73ed374a7fba8d856589e.jpg is a Manning book\n",
<<<<<<< HEAD
            "[[0.02786455]]\n",
            "[0.02786455]\n",
            "0894fd34403f523ce8da2ee4559a7898.jpg is a Manning book\n",
            "[[0.00222506]]\n",
            "[0.00222506]\n",
            "3408a5d02b003ffe3efcb3a2c1385e2b.jpg is a Manning book\n",
            "[[0.00714596]]\n",
            "[0.00714596]\n",
            "2638574718e4ef2e612b13081875120b.jpg is a Manning book\n",
            "[[0.0063385]]\n",
            "[0.0063385]\n",
            "b61614af527dc507a1cc0500b9379c1e.jpg is a Manning book\n",
            "[[0.00024153]]\n",
            "[0.00024153]\n",
            "bea7e808c09be18b53a893e70ec90178.jpg is a Manning book\n",
            "[[0.00036942]]\n",
            "[0.00036942]\n",
            "c1e95c0d977e9cbd3fdfacd1e6e35133.jpg is a Manning book\n",
            "[[0.00274134]]\n",
            "[0.00274134]\n",
            "c03b74e160a20e4886e2ee23d6f59f22.jpg is a Manning book\n",
            "[[0.97431415]]\n",
            "[0.97431415]\n",
            "download.jfif is an O'Reilly book\n",
            "[[0.00072539]]\n",
            "[0.00072539]\n",
            "e5d64f01be26938e282317e72105b63d.jpg is a Manning book\n",
            "[[0.63397664]]\n",
            "[0.63397664]\n",
            "e9c9ad44ab79d90ba16076630cbe3f54.jpg is an O'Reilly book\n",
            "[[9.169899e-06]]\n",
            "[9.169899e-06]\n",
            "f33540b12ec6e79853764e6901736e96.jpg is a Manning book\n",
            "[[0.00826752]]\n",
            "[0.00826752]\n",
            "f93055c73351ebc1980686c99e3a7c51.jpg is a Manning book\n"
=======
            "[[0.9999993]]\n",
            "[0.9999993]\n",
            "1491af1f0e5cd74158badf3ae05db33f.jpg is an O'Reilly book\n",
            "[[0.99998736]]\n",
            "[0.99998736]\n",
            "97298d078976333d5942e373b495f90c.jpg is an O'Reilly book\n",
            "[[0.99986506]]\n",
            "[0.99986506]\n",
            "472392b1da72c54c42aec8e3aaf00d49.png is an O'Reilly book\n",
            "[[0.9999974]]\n",
            "[0.9999974]\n",
            "19380782e637f2e76e8eb478380b5cad.png is an O'Reilly book\n",
            "[[0.9995721]]\n",
            "[0.9995721]\n",
            "aeb317ed514af833de85a70b49e98669.png is an O'Reilly book\n",
            "[[1.]]\n",
            "[1.]\n",
            "c9dc6eb7abc701c80e1a001966523221.png is an O'Reilly book\n",
            "[[0.99999976]]\n",
            "[0.99999976]\n",
            "c45a9a0aed6ef9fa7365394cecd5efa9.jpg is an O'Reilly book\n",
            "[[0.99998856]]\n",
            "[0.99998856]\n",
            "d3e78742f82478ac3d46a4a4bb32ccfd.png is an O'Reilly book\n",
            "[[0.9999502]]\n",
            "[0.9999502]\n",
            "d7bafb2748af0e6afffd0a7ec86ea28d.jpg is an O'Reilly book\n",
            "[[0.9999641]]\n",
            "[0.9999641]\n",
            "dcb33f06f6146235aeb6f455bde5f2b4.jpg is an O'Reilly book\n",
            "[[0.9999958]]\n",
            "[0.9999958]\n",
            "e62df8408d0da9a2824cef9593167645.png is an O'Reilly book\n",
            "[[1.]]\n",
            "[1.]\n",
            "eda7c92e8e0efb964f2dd0b02fd1b553.jpg is an O'Reilly book\n"
>>>>>>> 99967251dca1f4c433ce644d4cd7acf80e0a6a37
          ]
        }
      ],
      "source": [
        "from keras.preprocessing import image\n",
        "from google.colab import files\n",
        "uploaded = files.upload()\n",
        "for fn in uploaded.keys():\n",
        "\n",
        "  path= '/content/' + fn\n",
        "  img = image.load_img(path, target_size=(100, 100))\n",
        "  x = np.array(img)\n",
        "  X = np.array([x])\n",
        "  X = preprocess_input(X)\n",
        "  pred = model.predict(X)\n",
        "  print(pred)\n",
        "  print(pred[0])\n",
        "  if pred[0]>0.5:\n",
        "    print(fn + \" is an O'Reilly book\")\n",
        "  else:\n",
        "    print(fn + \" is a Manning book\")"
      ]
    },
    {
      "cell_type": "code",
      "execution_count": null,
      "metadata": {
        "id": "2wZBd6npDtwg"
      },
      "outputs": [],
      "source": []
    }
  ],
  "metadata": {
    "accelerator": "GPU",
    "colab": {
      "collapsed_sections": [],
      "include_colab_link": true,
      "name": "bkCvrs.ipynb",
      "provenance": []
    },
    "kernelspec": {
      "display_name": "Python 3",
      "name": "python3"
    },
    "language_info": {
      "name": "python"
    }
  },
  "nbformat": 4,
  "nbformat_minor": 0
}
