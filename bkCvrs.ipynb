{
  "nbformat": 4,
  "nbformat_minor": 0,
  "metadata": {
    "colab": {
      "name": "bkCvrs.ipynb",
      "provenance": [],
      "collapsed_sections": [],
      "include_colab_link": true
    },
    "kernelspec": {
      "name": "python3",
      "display_name": "Python 3"
    },
    "language_info": {
      "name": "python"
    },
    "accelerator": "GPU"
  },
  "cells": [
    {
      "cell_type": "markdown",
      "metadata": {
        "id": "view-in-github",
        "colab_type": "text"
      },
      "source": [
        "<a href=\"https://colab.research.google.com/github/pkdyn/ManningVsReilly/blob/main/bkCvrs.ipynb\" target=\"_parent\"><img src=\"https://colab.research.google.com/assets/colab-badge.svg\" alt=\"Open In Colab\"/></a>"
      ]
    },
    {
      "cell_type": "code",
      "metadata": {
        "id": "-o817iUxoIak",
        "colab": {
          "base_uri": "https://localhost:8080/"
        },
        "outputId": "bf388cf8-bf7d-4ede-ab2f-af8058476516"
      },
      "source": [
        "import numpy as np\n",
        "import pandas as pd\n",
        "import matplotlib.pyplot as plt\n",
        "%matplotlib inline\n",
        "\n",
        "import os\n",
        "\n",
        "import tensorflow as tf\n",
        "print (tf.__version__)\n",
        "from tensorflow import keras\n",
        "\n",
        "from tensorflow.keras.preprocessing.image import load_img\n",
        "from tensorflow.keras.applications.xception import Xception\n",
        "from tensorflow.keras.applications.xception import preprocess_input\n",
        "from tensorflow.keras.applications.xception import decode_predictions\n"
      ],
      "execution_count": 1,
      "outputs": [
        {
          "output_type": "stream",
          "text": [
            "2.5.0\n"
          ],
          "name": "stdout"
        }
      ]
    },
    {
      "cell_type": "code",
      "metadata": {
        "colab": {
          "base_uri": "https://localhost:8080/"
        },
        "id": "8B5i5udAYAer",
        "outputId": "10da5a31-91e4-4bf2-8e7b-c1643401c31f"
      },
      "source": [
        "\n",
        "!wget --no-check-certificate \\\n",
        "https://github.com/pkdyn/ManningVsReilly/archive/refs/heads/main.zip \n",
        "!unzip -q /content/main.zip\n",
        "!rm /content/main.zip\n",
        "\n"
      ],
      "execution_count": 2,
      "outputs": [
        {
          "output_type": "stream",
          "text": [
            "--2021-07-10 07:44:53--  https://github.com/pkdyn/ManningVsReilly/archive/refs/heads/main.zip\n",
            "Resolving github.com (github.com)... 192.30.255.113\n",
            "Connecting to github.com (github.com)|192.30.255.113|:443... connected.\n",
            "HTTP request sent, awaiting response... 302 Found\n",
            "Location: https://codeload.github.com/pkdyn/ManningVsReilly/zip/refs/heads/main [following]\n",
            "--2021-07-10 07:44:53--  https://codeload.github.com/pkdyn/ManningVsReilly/zip/refs/heads/main\n",
            "Resolving codeload.github.com (codeload.github.com)... 192.30.255.121\n",
            "Connecting to codeload.github.com (codeload.github.com)|192.30.255.121|:443... connected.\n",
            "HTTP request sent, awaiting response... 200 OK\n",
            "Length: unspecified [application/zip]\n",
            "Saving to: ‘main.zip’\n",
            "\n",
            "main.zip                [ <=>                ]   4.51M  25.3MB/s    in 0.2s    \n",
            "\n",
            "2021-07-10 07:44:53 (25.3 MB/s) - ‘main.zip’ saved [4725179]\n",
            "\n"
          ],
          "name": "stdout"
        }
      ]
    },
    {
      "cell_type": "code",
      "metadata": {
        "colab": {
          "base_uri": "https://localhost:8080/"
        },
        "id": "JkeOI3lxfmPS",
        "outputId": "574e9264-9fc2-425e-8dfb-4118103bd001"
      },
      "source": [
        "from tensorflow.keras.applications.xception import preprocess_input\n",
        "from tensorflow.keras.preprocessing.image import ImageDataGenerator\n",
        "train_datagen = ImageDataGenerator(\n",
        "    rotation_range=30,\n",
        "    width_shift_range=30.0,\n",
        "    height_shift_range=30.0,\n",
        "    shear_range=10.0,\n",
        "    zoom_range=0.2,\n",
        "    horizontal_flip=True,\n",
        "    validation_split=0.2, \n",
        "    preprocessing_function=preprocess_input) \n",
        "\n",
        "train_ds = train_datagen.flow_from_directory(\n",
        "    \"/content/ManningVsReilly-main/cvr_ds/train\",\n",
        "    target_size=(100, 100),\n",
        "    batch_size=32,\n",
        "    shuffle=True,\n",
        "    class_mode='binary',\n",
        "    subset='training') \n",
        "\n",
        "val_ds = train_datagen.flow_from_directory(\n",
        "    \"/content/ManningVsReilly-main/cvr_ds/train\", \n",
        "    target_size=(100, 100),\n",
        "    batch_size=32,\n",
        "    shuffle=True,\n",
        "    class_mode='binary',\n",
        "    subset='validation') \n",
        "\n"
      ],
      "execution_count": 3,
      "outputs": [
        {
          "output_type": "stream",
          "text": [
            "Found 480 images belonging to 2 classes.\n",
            "Found 120 images belonging to 2 classes.\n",
            "Found 46 images belonging to 2 classes.\n"
          ],
          "name": "stdout"
        }
      ]
    },
    {
      "cell_type": "code",
      "metadata": {
        "id": "6L-dBwoDWxyg"
      },
      "source": [
        "def make_model(learning_rate, droprate, size):\n",
        "    base_model = Xception(\n",
        "        weights='imagenet',\n",
        "        input_shape=(100, 100, 3),\n",
        "        include_top=False\n",
        "    )\n",
        "\n",
        "    base_model.trainable = False\n",
        "\n",
        "    inputs = keras.Input(shape=(100, 100, 3))\n",
        "\n",
        "    base = base_model(inputs, training=False)\n",
        "    vector = keras.layers.GlobalAveragePooling2D()(base)\n",
        "    inner = keras.layers.Dense(size, activation='relu')(vector)\n",
        "    drop = keras.layers.Dropout(droprate)(inner)\n",
        "    outputs = keras.layers.Dense(1, activation='sigmoid')(drop)\n",
        "    model = keras.Model(inputs, outputs)\n",
        "    \n",
        "    model.compile(\n",
        "        optimizer=keras.optimizers.Adam(learning_rate),\n",
        "        loss=keras.losses.BinaryCrossentropy(),\n",
        "        metrics=[\"accuracy\"],\n",
        "    )\n",
        "    \n",
        "    return model"
      ],
      "execution_count": 4,
      "outputs": []
    },
    {
      "cell_type": "code",
      "metadata": {
        "colab": {
          "base_uri": "https://localhost:8080/",
          "height": 1000
        },
        "id": "2Dim70Z_X1LR",
        "outputId": "d6bf5a0b-0fc5-4d10-f77a-b8101610d501"
      },
      "source": [
        "model = make_model(learning_rate=0.001, droprate=0.0, size=10)\n",
        "history_0_001 = model.fit(train_ds, epochs=15, validation_data=val_ds)\n",
        "model = make_model(learning_rate=0.0001, droprate=0.0, size=10)\n",
        "history_0_0001 = model.fit(train_ds, epochs=15, validation_data=val_ds)\n",
        "\n",
        "\n",
        "epochs = np.arange(15)\n",
        "val_0_001 = history_0_001.history['val_accuracy']\n",
        "val_0_0001 = history_0_0001.history['val_accuracy']\n",
        "\n",
        "\n",
        "\n",
        "plt.figure(figsize=(6, 4))\n",
        "\n",
        "plt.plot(epochs, val_0_001, color='blue', linestyle='solid', label='0.001')\n",
        "plt.plot(epochs, val_0_0001, color='green', linestyle='solid', label='0.0001')\n",
        "plt.title('Xception v1, different learning rates')\n",
        "plt.xlabel('Epoch')\n",
        "plt.ylabel('Accuracy')\n",
        "\n",
        "plt.xticks(epochs)\n",
        "plt.legend()\n",
        "plt.show()"
      ],
      "execution_count": null,
      "outputs": [
        {
          "output_type": "stream",
          "text": [
            "Downloading data from https://storage.googleapis.com/tensorflow/keras-applications/xception/xception_weights_tf_dim_ordering_tf_kernels_notop.h5\n",
            "83689472/83683744 [==============================] - 1s 0us/step\n",
            "Epoch 1/15\n",
            "15/15 [==============================] - 35s 214ms/step - loss: 0.4364 - accuracy: 0.8583 - val_loss: 0.2499 - val_accuracy: 0.9167\n",
            "Epoch 2/15\n",
            "15/15 [==============================] - 2s 136ms/step - loss: 0.1960 - accuracy: 0.9563 - val_loss: 0.1809 - val_accuracy: 0.9417\n",
            "Epoch 3/15\n",
            "15/15 [==============================] - 2s 140ms/step - loss: 0.1100 - accuracy: 0.9750 - val_loss: 0.1176 - val_accuracy: 0.9667\n",
            "Epoch 4/15\n",
            "15/15 [==============================] - 2s 142ms/step - loss: 0.0852 - accuracy: 0.9812 - val_loss: 0.0792 - val_accuracy: 0.9917\n",
            "Epoch 5/15\n",
            "15/15 [==============================] - 2s 145ms/step - loss: 0.0684 - accuracy: 0.9896 - val_loss: 0.0792 - val_accuracy: 0.9917\n",
            "Epoch 6/15\n",
            "15/15 [==============================] - 2s 143ms/step - loss: 0.0783 - accuracy: 0.9750 - val_loss: 0.0651 - val_accuracy: 0.9750\n",
            "Epoch 7/15\n",
            "15/15 [==============================] - 2s 135ms/step - loss: 0.0573 - accuracy: 0.9833 - val_loss: 0.0950 - val_accuracy: 0.9750\n",
            "Epoch 8/15\n",
            "15/15 [==============================] - 2s 134ms/step - loss: 0.0444 - accuracy: 0.9854 - val_loss: 0.0526 - val_accuracy: 0.9833\n",
            "Epoch 9/15\n",
            "15/15 [==============================] - 2s 139ms/step - loss: 0.0738 - accuracy: 0.9771 - val_loss: 0.0775 - val_accuracy: 0.9833\n",
            "Epoch 10/15\n",
            "15/15 [==============================] - 2s 143ms/step - loss: 0.0418 - accuracy: 0.9917 - val_loss: 0.0884 - val_accuracy: 0.9833\n",
            "Epoch 11/15\n",
            "15/15 [==============================] - 2s 144ms/step - loss: 0.0376 - accuracy: 0.9917 - val_loss: 0.0709 - val_accuracy: 0.9750\n",
            "Epoch 12/15\n",
            "15/15 [==============================] - 2s 143ms/step - loss: 0.0333 - accuracy: 0.9917 - val_loss: 0.0924 - val_accuracy: 0.9833\n",
            "Epoch 13/15\n",
            "15/15 [==============================] - 2s 142ms/step - loss: 0.0308 - accuracy: 0.9896 - val_loss: 0.0366 - val_accuracy: 0.9917\n",
            "Epoch 14/15\n",
            "15/15 [==============================] - 2s 144ms/step - loss: 0.0395 - accuracy: 0.9896 - val_loss: 0.0295 - val_accuracy: 1.0000\n",
            "Epoch 15/15\n",
            "15/15 [==============================] - 2s 150ms/step - loss: 0.0235 - accuracy: 0.9937 - val_loss: 0.0771 - val_accuracy: 0.9750\n",
            "Epoch 1/15\n",
            "15/15 [==============================] - 5s 217ms/step - loss: 0.6258 - accuracy: 0.6521 - val_loss: 0.5908 - val_accuracy: 0.7333\n",
            "Epoch 2/15\n",
            "15/15 [==============================] - 2s 152ms/step - loss: 0.5518 - accuracy: 0.7771 - val_loss: 0.5396 - val_accuracy: 0.7667\n",
            "Epoch 3/15\n",
            "15/15 [==============================] - 2s 143ms/step - loss: 0.4684 - accuracy: 0.8667 - val_loss: 0.4553 - val_accuracy: 0.8500\n",
            "Epoch 4/15\n",
            "15/15 [==============================] - 2s 148ms/step - loss: 0.4038 - accuracy: 0.8958 - val_loss: 0.3631 - val_accuracy: 0.9417\n",
            "Epoch 5/15\n",
            "15/15 [==============================] - 2s 151ms/step - loss: 0.3590 - accuracy: 0.9271 - val_loss: 0.3523 - val_accuracy: 0.9000\n",
            "Epoch 6/15\n",
            "15/15 [==============================] - 2s 147ms/step - loss: 0.3312 - accuracy: 0.9146 - val_loss: 0.3320 - val_accuracy: 0.9083\n",
            "Epoch 7/15\n",
            "15/15 [==============================] - 2s 152ms/step - loss: 0.2779 - accuracy: 0.9521 - val_loss: 0.3131 - val_accuracy: 0.8917\n",
            "Epoch 8/15\n",
            "15/15 [==============================] - 2s 147ms/step - loss: 0.2674 - accuracy: 0.9542 - val_loss: 0.2507 - val_accuracy: 0.9500\n",
            "Epoch 9/15\n",
            "15/15 [==============================] - 2s 146ms/step - loss: 0.2425 - accuracy: 0.9417 - val_loss: 0.2565 - val_accuracy: 0.9500\n",
            "Epoch 10/15\n",
            "15/15 [==============================] - 2s 149ms/step - loss: 0.2088 - accuracy: 0.9688 - val_loss: 0.2315 - val_accuracy: 0.9667\n",
            "Epoch 11/15\n",
            "15/15 [==============================] - 2s 147ms/step - loss: 0.2062 - accuracy: 0.9604 - val_loss: 0.1965 - val_accuracy: 0.9750\n",
            "Epoch 12/15\n",
            "15/15 [==============================] - 2s 145ms/step - loss: 0.2013 - accuracy: 0.9500 - val_loss: 0.1926 - val_accuracy: 0.9583\n",
            "Epoch 13/15\n",
            "15/15 [==============================] - 2s 146ms/step - loss: 0.1790 - accuracy: 0.9750 - val_loss: 0.2166 - val_accuracy: 0.9333\n",
            "Epoch 14/15\n",
            "15/15 [==============================] - 2s 146ms/step - loss: 0.1825 - accuracy: 0.9625 - val_loss: 0.1813 - val_accuracy: 0.9500\n",
            "Epoch 15/15\n",
            "15/15 [==============================] - 2s 147ms/step - loss: 0.1528 - accuracy: 0.9812 - val_loss: 0.1404 - val_accuracy: 0.9583\n",
            "Epoch 1/15\n",
            "15/15 [==============================] - 5s 186ms/step - loss: 0.7781 - accuracy: 0.4979 - val_loss: 0.7248 - val_accuracy: 0.5250\n",
            "Epoch 2/15\n",
            "15/15 [==============================] - 2s 137ms/step - loss: 0.6844 - accuracy: 0.5521 - val_loss: 0.6416 - val_accuracy: 0.6250\n",
            "Epoch 3/15\n",
            "15/15 [==============================] - 2s 145ms/step - loss: 0.6188 - accuracy: 0.6979 - val_loss: 0.6002 - val_accuracy: 0.7333\n",
            "Epoch 4/15\n",
            "15/15 [==============================] - 2s 143ms/step - loss: 0.5367 - accuracy: 0.8188 - val_loss: 0.5415 - val_accuracy: 0.8167\n",
            "Epoch 5/15\n",
            "15/15 [==============================] - 2s 136ms/step - loss: 0.4820 - accuracy: 0.8625 - val_loss: 0.4616 - val_accuracy: 0.8917\n",
            "Epoch 6/15\n",
            "15/15 [==============================] - 2s 137ms/step - loss: 0.4140 - accuracy: 0.9187 - val_loss: 0.3776 - val_accuracy: 0.9250\n",
            "Epoch 7/15\n",
            "15/15 [==============================] - 2s 135ms/step - loss: 0.3572 - accuracy: 0.9375 - val_loss: 0.3783 - val_accuracy: 0.8917\n",
            "Epoch 8/15\n",
            "15/15 [==============================] - 2s 136ms/step - loss: 0.3187 - accuracy: 0.9583 - val_loss: 0.3040 - val_accuracy: 0.9583\n",
            "Epoch 9/15\n",
            "15/15 [==============================] - 2s 139ms/step - loss: 0.2938 - accuracy: 0.9563 - val_loss: 0.2849 - val_accuracy: 0.9583\n",
            "Epoch 10/15\n",
            "15/15 [==============================] - 2s 136ms/step - loss: 0.2643 - accuracy: 0.9542 - val_loss: 0.2691 - val_accuracy: 0.9583\n",
            "Epoch 11/15\n",
            "15/15 [==============================] - 2s 137ms/step - loss: 0.2540 - accuracy: 0.9438 - val_loss: 0.2878 - val_accuracy: 0.9083\n",
            "Epoch 12/15\n",
            "15/15 [==============================] - 2s 145ms/step - loss: 0.2259 - accuracy: 0.9688 - val_loss: 0.2425 - val_accuracy: 0.9500\n",
            "Epoch 13/15\n",
            "15/15 [==============================] - 2s 137ms/step - loss: 0.2206 - accuracy: 0.9625 - val_loss: 0.1967 - val_accuracy: 0.9833\n",
            "Epoch 14/15\n",
            "15/15 [==============================] - 2s 136ms/step - loss: 0.1893 - accuracy: 0.9771 - val_loss: 0.2496 - val_accuracy: 0.9583\n",
            "Epoch 15/15\n",
            "15/15 [==============================] - 2s 147ms/step - loss: 0.1921 - accuracy: 0.9667 - val_loss: 0.2211 - val_accuracy: 0.9583\n"
          ],
          "name": "stdout"
        },
        {
          "output_type": "display_data",
          "data": {
            "image/png": "[encoded data removed]",
            "text/plain": [
              "<Figure size 432x288 with 1 Axes>"
            ]
          },
          "metadata": {
            "tags": [],
            "needs_background": "light"
          }
        }
      ]
    },
    {
      "cell_type": "code",
      "metadata": {
        "colab": {
          "base_uri": "https://localhost:8080/",
          "height": 1000
        },
        "id": "_y3uQwRBsMe5",
        "outputId": "be212b62-d4fc-4ac8-be1b-9da023f94d7e"
      },
      "source": [
        "\n",
        "model = make_model(learning_rate=0.001, droprate=0.6, size=10)\n",
        "history_10_6_001 = model.fit(train_ds, epochs=15, validation_data=val_ds)\n",
        "model = make_model(learning_rate=0.001, droprate=0.6, size=25)\n",
        "history_25_6_001 = model.fit(train_ds, epochs=15, validation_data=val_ds)\n",
        "\n",
        "\n",
        "model = make_model(learning_rate=0.001, droprate=0.7, size=10)\n",
        "history_10_7_001 = model.fit(train_ds, epochs=15, validation_data=val_ds)\n",
        "model = make_model(learning_rate=0.001, droprate=0.7, size=25)\n",
        "history_25_7_001 = model.fit(train_ds, epochs=15, validation_data=val_ds)\n",
        "\n",
        "\n",
        "epochs = np.arange(15)\n",
        "val_10_6_001 = history_10_6_001.history['val_accuracy']\n",
        "val_25_6_001 = history_25_6_001.history['val_accuracy']\n",
        "\n",
        "val_10_7_001 = history_10_7_001.history['val_accuracy']\n",
        "val_25_7_001 = history_25_7_001.history['val_accuracy']\n",
        "\n",
        "plt.figure(figsize=(6, 4))\n",
        "plt.plot(epochs, val_10_6_001, color='green', linestyle='dotted', label='0.001, 0.6, 10')\n",
        "plt.plot(epochs, val_25_6_001, color='green', linestyle='solid', label='0.001, 0.6, 25')\n",
        "\n",
        "plt.plot(epochs, val_10_7_001, color='blue', linestyle='dotted', label='0.001, 0.7, 10')\n",
        "plt.plot(epochs, val_25_7_001, color='blue', linestyle='solid', label='0.001, 0.7, 25')\n",
        "\n",
        "plt.title('Xception v2, different inner layer sizes ')\n",
        "plt.xlabel('Epoch')\n",
        "plt.ylabel('Accuracy')\n",
        "plt.xticks(epochs)\n",
        "plt.legend()\n",
        "plt.show()"
      ],
      "execution_count": 5,
      "outputs": [
        {
          "output_type": "stream",
          "text": [
            "Downloading data from https://storage.googleapis.com/tensorflow/keras-applications/xception/xception_weights_tf_dim_ordering_tf_kernels_notop.h5\n",
            "83689472/83683744 [==============================] - 0s 0us/step\n",
            "Epoch 1/15\n",
            "15/15 [==============================] - 35s 210ms/step - loss: 0.6505 - accuracy: 0.6417 - val_loss: 0.4791 - val_accuracy: 0.8833\n",
            "Epoch 2/15\n",
            "15/15 [==============================] - 2s 129ms/step - loss: 0.4614 - accuracy: 0.8083 - val_loss: 0.3214 - val_accuracy: 0.9333\n",
            "Epoch 3/15\n",
            "15/15 [==============================] - 2s 129ms/step - loss: 0.3824 - accuracy: 0.8542 - val_loss: 0.2504 - val_accuracy: 0.9667\n",
            "Epoch 4/15\n",
            "15/15 [==============================] - 2s 135ms/step - loss: 0.3390 - accuracy: 0.8813 - val_loss: 0.2146 - val_accuracy: 0.9750\n",
            "Epoch 5/15\n",
            "15/15 [==============================] - 2s 133ms/step - loss: 0.3153 - accuracy: 0.8771 - val_loss: 0.1601 - val_accuracy: 0.9750\n",
            "Epoch 6/15\n",
            "15/15 [==============================] - 2s 133ms/step - loss: 0.3190 - accuracy: 0.8792 - val_loss: 0.1729 - val_accuracy: 0.9917\n",
            "Epoch 7/15\n",
            "15/15 [==============================] - 2s 134ms/step - loss: 0.2460 - accuracy: 0.9250 - val_loss: 0.1524 - val_accuracy: 0.9750\n",
            "Epoch 8/15\n",
            "15/15 [==============================] - 2s 132ms/step - loss: 0.2550 - accuracy: 0.8958 - val_loss: 0.1531 - val_accuracy: 0.9750\n",
            "Epoch 9/15\n",
            "15/15 [==============================] - 2s 134ms/step - loss: 0.2758 - accuracy: 0.9104 - val_loss: 0.1839 - val_accuracy: 0.9333\n",
            "Epoch 10/15\n",
            "15/15 [==============================] - 2s 134ms/step - loss: 0.2385 - accuracy: 0.9396 - val_loss: 0.0975 - val_accuracy: 0.9917\n",
            "Epoch 11/15\n",
            "15/15 [==============================] - 2s 133ms/step - loss: 0.2104 - accuracy: 0.9292 - val_loss: 0.1004 - val_accuracy: 0.9917\n",
            "Epoch 12/15\n",
            "15/15 [==============================] - 2s 133ms/step - loss: 0.2462 - accuracy: 0.9146 - val_loss: 0.0929 - val_accuracy: 0.9750\n",
            "Epoch 13/15\n",
            "15/15 [==============================] - 2s 135ms/step - loss: 0.2239 - accuracy: 0.9417 - val_loss: 0.1034 - val_accuracy: 0.9750\n",
            "Epoch 14/15\n",
            "15/15 [==============================] - 2s 134ms/step - loss: 0.2160 - accuracy: 0.9208 - val_loss: 0.0995 - val_accuracy: 0.9833\n",
            "Epoch 15/15\n",
            "15/15 [==============================] - 2s 134ms/step - loss: 0.1981 - accuracy: 0.9292 - val_loss: 0.0942 - val_accuracy: 0.9750\n",
            "Epoch 1/15\n",
            "15/15 [==============================] - 5s 196ms/step - loss: 0.5473 - accuracy: 0.7292 - val_loss: 0.3176 - val_accuracy: 0.9167\n",
            "Epoch 2/15\n",
            "15/15 [==============================] - 2s 134ms/step - loss: 0.3084 - accuracy: 0.8875 - val_loss: 0.1764 - val_accuracy: 0.9500\n",
            "Epoch 3/15\n",
            "15/15 [==============================] - 2s 136ms/step - loss: 0.1731 - accuracy: 0.9500 - val_loss: 0.1592 - val_accuracy: 0.9417\n",
            "Epoch 4/15\n",
            "15/15 [==============================] - 2s 132ms/step - loss: 0.1636 - accuracy: 0.9500 - val_loss: 0.1125 - val_accuracy: 0.9667\n",
            "Epoch 5/15\n",
            "15/15 [==============================] - 2s 133ms/step - loss: 0.1443 - accuracy: 0.9625 - val_loss: 0.1307 - val_accuracy: 0.9583\n",
            "Epoch 6/15\n",
            "15/15 [==============================] - 2s 132ms/step - loss: 0.1302 - accuracy: 0.9604 - val_loss: 0.0944 - val_accuracy: 0.9667\n",
            "Epoch 7/15\n",
            "15/15 [==============================] - 2s 133ms/step - loss: 0.1375 - accuracy: 0.9542 - val_loss: 0.0686 - val_accuracy: 0.9750\n",
            "Epoch 8/15\n",
            "15/15 [==============================] - 2s 132ms/step - loss: 0.1064 - accuracy: 0.9667 - val_loss: 0.0813 - val_accuracy: 0.9750\n",
            "Epoch 9/15\n",
            "15/15 [==============================] - 2s 131ms/step - loss: 0.0932 - accuracy: 0.9750 - val_loss: 0.0726 - val_accuracy: 0.9667\n",
            "Epoch 10/15\n",
            "15/15 [==============================] - 2s 132ms/step - loss: 0.1003 - accuracy: 0.9688 - val_loss: 0.0371 - val_accuracy: 1.0000\n",
            "Epoch 11/15\n",
            "15/15 [==============================] - 2s 132ms/step - loss: 0.1016 - accuracy: 0.9688 - val_loss: 0.0245 - val_accuracy: 1.0000\n",
            "Epoch 12/15\n",
            "15/15 [==============================] - 2s 132ms/step - loss: 0.0834 - accuracy: 0.9750 - val_loss: 0.0633 - val_accuracy: 0.9833\n",
            "Epoch 13/15\n",
            "15/15 [==============================] - 2s 132ms/step - loss: 0.0895 - accuracy: 0.9771 - val_loss: 0.0590 - val_accuracy: 0.9750\n",
            "Epoch 14/15\n",
            "15/15 [==============================] - 2s 132ms/step - loss: 0.0950 - accuracy: 0.9708 - val_loss: 0.0611 - val_accuracy: 0.9833\n",
            "Epoch 15/15\n",
            "15/15 [==============================] - 2s 132ms/step - loss: 0.0510 - accuracy: 0.9896 - val_loss: 0.0627 - val_accuracy: 0.9833\n",
            "Epoch 1/15\n",
            "15/15 [==============================] - 5s 185ms/step - loss: 0.7323 - accuracy: 0.5792 - val_loss: 0.5573 - val_accuracy: 0.8417\n",
            "Epoch 2/15\n",
            "15/15 [==============================] - 2s 135ms/step - loss: 0.5070 - accuracy: 0.7333 - val_loss: 0.2943 - val_accuracy: 0.9417\n",
            "Epoch 3/15\n",
            "15/15 [==============================] - 2s 134ms/step - loss: 0.4413 - accuracy: 0.7417 - val_loss: 0.2826 - val_accuracy: 0.9167\n",
            "Epoch 4/15\n",
            "15/15 [==============================] - 2s 134ms/step - loss: 0.3891 - accuracy: 0.7917 - val_loss: 0.2182 - val_accuracy: 0.9583\n",
            "Epoch 5/15\n",
            "15/15 [==============================] - 2s 134ms/step - loss: 0.3452 - accuracy: 0.7875 - val_loss: 0.1779 - val_accuracy: 0.9417\n",
            "Epoch 6/15\n",
            "15/15 [==============================] - 2s 134ms/step - loss: 0.3884 - accuracy: 0.7667 - val_loss: 0.2167 - val_accuracy: 0.9750\n",
            "Epoch 7/15\n",
            "15/15 [==============================] - 2s 134ms/step - loss: 0.3658 - accuracy: 0.7750 - val_loss: 0.1711 - val_accuracy: 0.9833\n",
            "Epoch 8/15\n",
            "15/15 [==============================] - 2s 133ms/step - loss: 0.2813 - accuracy: 0.8500 - val_loss: 0.1081 - val_accuracy: 0.9917\n",
            "Epoch 9/15\n",
            "15/15 [==============================] - 2s 134ms/step - loss: 0.2935 - accuracy: 0.8125 - val_loss: 0.1237 - val_accuracy: 0.9917\n",
            "Epoch 10/15\n",
            "15/15 [==============================] - 2s 132ms/step - loss: 0.2553 - accuracy: 0.8271 - val_loss: 0.1147 - val_accuracy: 0.9667\n",
            "Epoch 11/15\n",
            "15/15 [==============================] - 2s 134ms/step - loss: 0.2714 - accuracy: 0.8167 - val_loss: 0.1217 - val_accuracy: 0.9583\n",
            "Epoch 12/15\n",
            "15/15 [==============================] - 2s 134ms/step - loss: 0.2749 - accuracy: 0.8167 - val_loss: 0.1017 - val_accuracy: 0.9833\n",
            "Epoch 13/15\n",
            "15/15 [==============================] - 2s 132ms/step - loss: 0.2940 - accuracy: 0.8104 - val_loss: 0.0916 - val_accuracy: 0.9833\n",
            "Epoch 14/15\n",
            "15/15 [==============================] - 2s 134ms/step - loss: 0.2452 - accuracy: 0.8188 - val_loss: 0.0827 - val_accuracy: 0.9833\n",
            "Epoch 15/15\n",
            "15/15 [==============================] - 2s 132ms/step - loss: 0.2906 - accuracy: 0.8333 - val_loss: 0.1077 - val_accuracy: 0.9667\n",
            "Epoch 1/15\n",
            "15/15 [==============================] - 5s 182ms/step - loss: 0.6016 - accuracy: 0.6771 - val_loss: 0.3916 - val_accuracy: 0.9000\n",
            "Epoch 2/15\n",
            "15/15 [==============================] - 2s 133ms/step - loss: 0.3639 - accuracy: 0.8521 - val_loss: 0.2153 - val_accuracy: 0.9583\n",
            "Epoch 3/15\n",
            "15/15 [==============================] - 2s 133ms/step - loss: 0.2655 - accuracy: 0.9042 - val_loss: 0.2250 - val_accuracy: 0.9333\n",
            "Epoch 4/15\n",
            "15/15 [==============================] - 2s 137ms/step - loss: 0.2057 - accuracy: 0.9354 - val_loss: 0.1254 - val_accuracy: 0.9750\n",
            "Epoch 5/15\n",
            "15/15 [==============================] - 2s 134ms/step - loss: 0.1749 - accuracy: 0.9479 - val_loss: 0.1170 - val_accuracy: 0.9583\n",
            "Epoch 6/15\n",
            "15/15 [==============================] - 2s 132ms/step - loss: 0.1670 - accuracy: 0.9396 - val_loss: 0.0884 - val_accuracy: 0.9750\n",
            "Epoch 7/15\n",
            "15/15 [==============================] - 2s 131ms/step - loss: 0.1681 - accuracy: 0.9333 - val_loss: 0.0712 - val_accuracy: 0.9833\n",
            "Epoch 8/15\n",
            "15/15 [==============================] - 2s 131ms/step - loss: 0.1438 - accuracy: 0.9458 - val_loss: 0.0758 - val_accuracy: 0.9750\n",
            "Epoch 9/15\n",
            "15/15 [==============================] - 2s 132ms/step - loss: 0.1422 - accuracy: 0.9479 - val_loss: 0.0659 - val_accuracy: 0.9917\n",
            "Epoch 10/15\n",
            "15/15 [==============================] - 2s 128ms/step - loss: 0.1194 - accuracy: 0.9500 - val_loss: 0.0691 - val_accuracy: 0.9667\n",
            "Epoch 11/15\n",
            "15/15 [==============================] - 2s 131ms/step - loss: 0.1214 - accuracy: 0.9625 - val_loss: 0.0480 - val_accuracy: 0.9833\n",
            "Epoch 12/15\n",
            "15/15 [==============================] - 2s 130ms/step - loss: 0.1055 - accuracy: 0.9646 - val_loss: 0.0641 - val_accuracy: 0.9750\n",
            "Epoch 13/15\n",
            "15/15 [==============================] - 2s 132ms/step - loss: 0.0962 - accuracy: 0.9625 - val_loss: 0.0545 - val_accuracy: 0.9917\n",
            "Epoch 14/15\n",
            "15/15 [==============================] - 2s 131ms/step - loss: 0.0993 - accuracy: 0.9604 - val_loss: 0.0823 - val_accuracy: 0.9667\n",
            "Epoch 15/15\n",
            "15/15 [==============================] - 2s 137ms/step - loss: 0.0884 - accuracy: 0.9729 - val_loss: 0.0284 - val_accuracy: 0.9917\n"
          ],
          "name": "stdout"
        },
        {
          "output_type": "display_data",
          "data": {
            "image/png": "[encoded data removed]",
            "text/plain": [
              "<Figure size 432x288 with 1 Axes>"
            ]
          },
          "metadata": {
            "tags": [],
            "needs_background": "light"
          }
        }
      ]
    },
    {
      "cell_type": "code",
      "metadata": {
        "colab": {
          "base_uri": "https://localhost:8080/"
        },
        "id": "UTltqceU3AyF",
        "outputId": "037c9083-7c37-4bc7-b720-cdf77a430d37"
      },
      "source": [
        "model = make_model(learning_rate=0.001, droprate=0.7, size=25)\n",
        "model.fit(train_ds, epochs=30, validation_data=val_ds)\n"
      ],
      "execution_count": 6,
      "outputs": [
        {
          "output_type": "stream",
          "text": [
            "Epoch 1/30\n",
            "15/15 [==============================] - 5s 199ms/step - loss: 0.5892 - accuracy: 0.6708 - val_loss: 0.3792 - val_accuracy: 0.9583\n",
            "Epoch 2/30\n",
            "15/15 [==============================] - 2s 130ms/step - loss: 0.4045 - accuracy: 0.8438 - val_loss: 0.2120 - val_accuracy: 0.9667\n",
            "Epoch 3/30\n",
            "15/15 [==============================] - 2s 131ms/step - loss: 0.2838 - accuracy: 0.9021 - val_loss: 0.1752 - val_accuracy: 0.9500\n",
            "Epoch 4/30\n",
            "15/15 [==============================] - 2s 132ms/step - loss: 0.2392 - accuracy: 0.9062 - val_loss: 0.1160 - val_accuracy: 0.9833\n",
            "Epoch 5/30\n",
            "15/15 [==============================] - 2s 132ms/step - loss: 0.1822 - accuracy: 0.9479 - val_loss: 0.1268 - val_accuracy: 0.9583\n",
            "Epoch 6/30\n",
            "15/15 [==============================] - 2s 131ms/step - loss: 0.1902 - accuracy: 0.9479 - val_loss: 0.0987 - val_accuracy: 0.9667\n",
            "Epoch 7/30\n",
            "15/15 [==============================] - 2s 132ms/step - loss: 0.1857 - accuracy: 0.9458 - val_loss: 0.0985 - val_accuracy: 0.9833\n",
            "Epoch 8/30\n",
            "15/15 [==============================] - 2s 130ms/step - loss: 0.1682 - accuracy: 0.9438 - val_loss: 0.0814 - val_accuracy: 1.0000\n",
            "Epoch 9/30\n",
            "15/15 [==============================] - 2s 133ms/step - loss: 0.1550 - accuracy: 0.9500 - val_loss: 0.0726 - val_accuracy: 0.9833\n",
            "Epoch 10/30\n",
            "15/15 [==============================] - 2s 131ms/step - loss: 0.1202 - accuracy: 0.9750 - val_loss: 0.0880 - val_accuracy: 0.9583\n",
            "Epoch 11/30\n",
            "15/15 [==============================] - 2s 131ms/step - loss: 0.1310 - accuracy: 0.9604 - val_loss: 0.0686 - val_accuracy: 0.9833\n",
            "Epoch 12/30\n",
            "15/15 [==============================] - 2s 132ms/step - loss: 0.1465 - accuracy: 0.9667 - val_loss: 0.0526 - val_accuracy: 0.9833\n",
            "Epoch 13/30\n",
            "15/15 [==============================] - 2s 136ms/step - loss: 0.1201 - accuracy: 0.9625 - val_loss: 0.0426 - val_accuracy: 0.9917\n",
            "Epoch 14/30\n",
            "15/15 [==============================] - 2s 135ms/step - loss: 0.1415 - accuracy: 0.9667 - val_loss: 0.0590 - val_accuracy: 0.9750\n",
            "Epoch 15/30\n",
            "15/15 [==============================] - 2s 134ms/step - loss: 0.1418 - accuracy: 0.9563 - val_loss: 0.0461 - val_accuracy: 0.9833\n",
            "Epoch 16/30\n",
            "15/15 [==============================] - 2s 134ms/step - loss: 0.1251 - accuracy: 0.9646 - val_loss: 0.0482 - val_accuracy: 0.9917\n",
            "Epoch 17/30\n",
            "15/15 [==============================] - 2s 132ms/step - loss: 0.1276 - accuracy: 0.9688 - val_loss: 0.0355 - val_accuracy: 0.9833\n",
            "Epoch 18/30\n",
            "15/15 [==============================] - 2s 131ms/step - loss: 0.1024 - accuracy: 0.9729 - val_loss: 0.0786 - val_accuracy: 0.9667\n",
            "Epoch 19/30\n",
            "15/15 [==============================] - 2s 133ms/step - loss: 0.1005 - accuracy: 0.9667 - val_loss: 0.0669 - val_accuracy: 0.9667\n",
            "Epoch 20/30\n",
            "15/15 [==============================] - 2s 130ms/step - loss: 0.0890 - accuracy: 0.9854 - val_loss: 0.0452 - val_accuracy: 0.9917\n",
            "Epoch 21/30\n",
            "15/15 [==============================] - 2s 131ms/step - loss: 0.0990 - accuracy: 0.9750 - val_loss: 0.0167 - val_accuracy: 1.0000\n",
            "Epoch 22/30\n",
            "15/15 [==============================] - 2s 128ms/step - loss: 0.1022 - accuracy: 0.9667 - val_loss: 0.0235 - val_accuracy: 0.9917\n",
            "Epoch 23/30\n",
            "15/15 [==============================] - 2s 132ms/step - loss: 0.1125 - accuracy: 0.9729 - val_loss: 0.0776 - val_accuracy: 0.9667\n",
            "Epoch 24/30\n",
            "15/15 [==============================] - 2s 130ms/step - loss: 0.0920 - accuracy: 0.9771 - val_loss: 0.0284 - val_accuracy: 1.0000\n",
            "Epoch 25/30\n",
            "15/15 [==============================] - 2s 130ms/step - loss: 0.1092 - accuracy: 0.9688 - val_loss: 0.0502 - val_accuracy: 0.9667\n",
            "Epoch 26/30\n",
            "15/15 [==============================] - 2s 128ms/step - loss: 0.1104 - accuracy: 0.9708 - val_loss: 0.0352 - val_accuracy: 0.9917\n",
            "Epoch 27/30\n",
            "15/15 [==============================] - 2s 131ms/step - loss: 0.0718 - accuracy: 0.9875 - val_loss: 0.0303 - val_accuracy: 0.9833\n",
            "Epoch 28/30\n",
            "15/15 [==============================] - 2s 130ms/step - loss: 0.0827 - accuracy: 0.9771 - val_loss: 0.0317 - val_accuracy: 0.9917\n",
            "Epoch 29/30\n",
            "15/15 [==============================] - 2s 131ms/step - loss: 0.0784 - accuracy: 0.9833 - val_loss: 0.0529 - val_accuracy: 0.9750\n",
            "Epoch 30/30\n",
            "15/15 [==============================] - 2s 135ms/step - loss: 0.0929 - accuracy: 0.9792 - val_loss: 0.0218 - val_accuracy: 0.9917\n"
          ],
          "name": "stdout"
        },
        {
          "output_type": "execute_result",
          "data": {
            "text/plain": [
              "<tensorflow.python.keras.callbacks.History at 0x7fe3c52e9f10>"
            ]
          },
          "metadata": {
            "tags": []
          },
          "execution_count": 6
        }
      ]
    },
    {
      "cell_type": "code",
      "metadata": {
        "colab": {
          "base_uri": "https://localhost:8080/"
        },
        "id": "gIuhJFlucTzn",
        "outputId": "4e610ac9-4f34-4daf-82e7-7487f4f13e75"
      },
      "source": [
        "model.evaluate(test_ds)"
      ],
      "execution_count": 9,
      "outputs": [
        {
          "output_type": "stream",
          "text": [
            "2/2 [==============================] - 1s 467ms/step - loss: 3.2628 - accuracy: 0.5000\n"
          ],
          "name": "stdout"
        },
        {
          "output_type": "execute_result",
          "data": {
            "text/plain": [
              "[3.262831211090088, 0.5]"
            ]
          },
          "metadata": {
            "tags": []
          },
          "execution_count": 9
        }
      ]
    },
    {
      "cell_type": "code",
      "metadata": {
        "colab": {
          "resources": {
            "http://localhost:8080/nbextensions/google.colab/files.js": {
              "data": "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",
              "ok": true,
              "headers": [
                [
                  "content-type",
                  "application/javascript"
                ]
              ],
              "status": 200,
              "status_text": ""
            }
          },
          "base_uri": "https://localhost:8080/",
          "height": 1000
        },
        "id": "TpIdRisVEKUg",
        "outputId": "d159d469-4336-40e4-9f88-f6f6ee542afc"
      },
      "source": [
        "from keras.preprocessing import image\n",
        "from google.colab import files\n",
        "uploaded = files.upload()\n",
        "for fn in uploaded.keys():\n",
        "\n",
        "  path= '/content/' + fn\n",
        "  img = image.load_img(path, target_size=(100, 100))\n",
        "  x = np.array(img)\n",
        "  X = np.array([x])\n",
        "  X = preprocess_input(X)\n",
        "  pred = model.predict(X)\n",
        "  print(pred)\n",
        "  print(pred[0])\n",
        "  if pred[0]>0.5:\n",
        "    print(fn + \" is an O'Reilly book\")\n",
        "  else:\n",
        "    print(fn + \" is a Manning book\")"
      ],
      "execution_count": 11,
      "outputs": [
        {
          "output_type": "display_data",
          "data": {
            "text/html": [
              "\n",
              "     <input type=\"file\" id=\"files-82720df7-68a5-4ef5-8b28-1b76ae2d1e41\" name=\"files[]\" multiple disabled\n",
              "        style=\"border:none\" />\n",
              "     <output id=\"result-82720df7-68a5-4ef5-8b28-1b76ae2d1e41\">\n",
              "      Upload widget is only available when the cell has been executed in the\n",
              "      current browser session. Please rerun this cell to enable.\n",
              "      </output>\n",
              "      <script src=\"/nbextensions/google.colab/files.js\"></script> "
            ],
            "text/plain": [
              "<IPython.core.display.HTML object>"
            ]
          },
          "metadata": {
            "tags": []
          }
        },
        {
          "output_type": "stream",
          "text": [
            "Saving 0b60390e1013bab512a7520f461ea310.png to 0b60390e1013bab512a7520f461ea310.png\n",
            "Saving 6b156b0de0aaf054d62c9de53deae2d3.png to 6b156b0de0aaf054d62c9de53deae2d3.png\n",
            "Saving 6c340d00f087209f9c0e44b124e94589.png to 6c340d00f087209f9c0e44b124e94589.png\n",
            "Saving 07dddb385856e664e9f684ac78e56ec2.jpg to 07dddb385856e664e9f684ac78e56ec2.jpg\n",
            "Saving 7a9398217b249cecf37fdf5a94cbadc0.png to 7a9398217b249cecf37fdf5a94cbadc0.png\n",
            "Saving 8f087184385a3360929e255901f68e24.jpg to 8f087184385a3360929e255901f68e24.jpg\n",
            "Saving 582b1124fbdf81ef17d0367278a9c742.jpg to 582b1124fbdf81ef17d0367278a9c742.jpg\n",
            "Saving 742ba9265afb3200535994b7a7f588c3.jpg to 742ba9265afb3200535994b7a7f588c3.jpg\n",
            "Saving 1491af1f0e5cd74158badf3ae05db33f.jpg to 1491af1f0e5cd74158badf3ae05db33f.jpg\n",
            "Saving 97298d078976333d5942e373b495f90c.jpg to 97298d078976333d5942e373b495f90c.jpg\n",
            "Saving 472392b1da72c54c42aec8e3aaf00d49.png to 472392b1da72c54c42aec8e3aaf00d49.png\n",
            "Saving 19380782e637f2e76e8eb478380b5cad.png to 19380782e637f2e76e8eb478380b5cad.png\n",
            "Saving aeb317ed514af833de85a70b49e98669.png to aeb317ed514af833de85a70b49e98669.png\n",
            "Saving c9dc6eb7abc701c80e1a001966523221.png to c9dc6eb7abc701c80e1a001966523221.png\n",
            "Saving c45a9a0aed6ef9fa7365394cecd5efa9.jpg to c45a9a0aed6ef9fa7365394cecd5efa9.jpg\n",
            "Saving d3e78742f82478ac3d46a4a4bb32ccfd.png to d3e78742f82478ac3d46a4a4bb32ccfd.png\n",
            "Saving d7bafb2748af0e6afffd0a7ec86ea28d.jpg to d7bafb2748af0e6afffd0a7ec86ea28d.jpg\n",
            "Saving dcb33f06f6146235aeb6f455bde5f2b4.jpg to dcb33f06f6146235aeb6f455bde5f2b4.jpg\n",
            "Saving e62df8408d0da9a2824cef9593167645.png to e62df8408d0da9a2824cef9593167645.png\n",
            "Saving eda7c92e8e0efb964f2dd0b02fd1b553.jpg to eda7c92e8e0efb964f2dd0b02fd1b553.jpg\n",
            "Saving f615d0fd247498d79d3ba0d5b41d505c.png to f615d0fd247498d79d3ba0d5b41d505c.png\n",
            "Saving f12629e9974965999f8b3b56af1123a7.jpg to f12629e9974965999f8b3b56af1123a7.jpg\n",
            "Saving f32549ae9d56b251873b4336091b8c5b.png to f32549ae9d56b251873b4336091b8c5b.png\n",
            "[[0.9810647]]\n",
            "[0.9810647]\n",
            "0b60390e1013bab512a7520f461ea310.png is an O'Reilly book\n",
            "[[0.9998785]]\n",
            "[0.9998785]\n",
            "6b156b0de0aaf054d62c9de53deae2d3.png is an O'Reilly book\n",
            "[[0.99967444]]\n",
            "[0.99967444]\n",
            "6c340d00f087209f9c0e44b124e94589.png is an O'Reilly book\n",
            "[[0.99829227]]\n",
            "[0.99829227]\n",
            "07dddb385856e664e9f684ac78e56ec2.jpg is an O'Reilly book\n",
            "[[0.9983872]]\n",
            "[0.9983872]\n",
            "7a9398217b249cecf37fdf5a94cbadc0.png is an O'Reilly book\n",
            "[[0.9988036]]\n",
            "[0.9988036]\n",
            "8f087184385a3360929e255901f68e24.jpg is an O'Reilly book\n",
            "[[0.99389464]]\n",
            "[0.99389464]\n",
            "582b1124fbdf81ef17d0367278a9c742.jpg is an O'Reilly book\n",
            "[[0.9999999]]\n",
            "[0.9999999]\n",
            "742ba9265afb3200535994b7a7f588c3.jpg is an O'Reilly book\n",
            "[[0.9999192]]\n",
            "[0.9999192]\n",
            "1491af1f0e5cd74158badf3ae05db33f.jpg is an O'Reilly book\n",
            "[[0.99955374]]\n",
            "[0.99955374]\n",
            "97298d078976333d5942e373b495f90c.jpg is an O'Reilly book\n",
            "[[0.99686074]]\n",
            "[0.99686074]\n",
            "472392b1da72c54c42aec8e3aaf00d49.png is an O'Reilly book\n",
            "[[0.99966884]]\n",
            "[0.99966884]\n",
            "19380782e637f2e76e8eb478380b5cad.png is an O'Reilly book\n",
            "[[0.9926427]]\n",
            "[0.9926427]\n",
            "aeb317ed514af833de85a70b49e98669.png is an O'Reilly book\n",
            "[[0.9999999]]\n",
            "[0.9999999]\n",
            "c9dc6eb7abc701c80e1a001966523221.png is an O'Reilly book\n",
            "[[0.99992347]]\n",
            "[0.99992347]\n",
            "c45a9a0aed6ef9fa7365394cecd5efa9.jpg is an O'Reilly book\n",
            "[[0.99978215]]\n",
            "[0.99978215]\n",
            "d3e78742f82478ac3d46a4a4bb32ccfd.png is an O'Reilly book\n",
            "[[0.9977337]]\n",
            "[0.9977337]\n",
            "d7bafb2748af0e6afffd0a7ec86ea28d.jpg is an O'Reilly book\n",
            "[[0.9985122]]\n",
            "[0.9985122]\n",
            "dcb33f06f6146235aeb6f455bde5f2b4.jpg is an O'Reilly book\n",
            "[[0.99959594]]\n",
            "[0.99959594]\n",
            "e62df8408d0da9a2824cef9593167645.png is an O'Reilly book\n",
            "[[0.9999968]]\n",
            "[0.9999968]\n",
            "eda7c92e8e0efb964f2dd0b02fd1b553.jpg is an O'Reilly book\n",
            "[[0.99681014]]\n",
            "[0.99681014]\n",
            "f615d0fd247498d79d3ba0d5b41d505c.png is an O'Reilly book\n",
            "[[0.98528975]]\n",
            "[0.98528975]\n",
            "f12629e9974965999f8b3b56af1123a7.jpg is an O'Reilly book\n",
            "[[0.9994746]]\n",
            "[0.9994746]\n",
            "f32549ae9d56b251873b4336091b8c5b.png is an O'Reilly book\n"
          ],
          "name": "stdout"
        }
      ]
    },
    {
      "cell_type": "code",
      "metadata": {
        "id": "2wZBd6npDtwg"
      },
      "source": [
        ""
      ],
      "execution_count": null,
      "outputs": []
    }
  ]
}