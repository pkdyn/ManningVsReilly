{
  "cells": [
    {
      "cell_type": "markdown",
      "metadata": {
        "colab_type": "text",
        "id": "view-in-github"
      },
      "source": [
        "<a href=\"https://colab.research.google.com/github/pkdyn/ManningVsReilly/blob/main/bkCvrs.ipynb\" target=\"_parent\"><img src=\"https://colab.research.google.com/assets/colab-badge.svg\" alt=\"Open In Colab\"/></a>"
      ]
    },
    {
      "cell_type": "code",
      "execution_count": 1,
      "metadata": {
        "colab": {
          "base_uri": "https://localhost:8080/"
        },
        "id": "-o817iUxoIak",
        "outputId": "59217069-32e2-4d61-c259-d2b47594cfcb"
      },
      "outputs": [
        {
          "name": "stdout",
          "output_type": "stream",
          "text": [
            "2.5.0\n"
          ]
        }
      ],
      "source": [
        "import numpy as np\n",
        "import pandas as pd\n",
        "import matplotlib.pyplot as plt\n",
        "%matplotlib inline\n",
        "\n",
        "import os\n",
        "\n",
        "import tensorflow as tf\n",
        "print (tf.__version__)\n",
        "from tensorflow import keras\n",
        "\n",
        "from tensorflow.keras.preprocessing.image import load_img\n",
        "from tensorflow.keras.applications.xception import Xception\n",
        "from tensorflow.keras.applications.xception import preprocess_input\n",
        "from tensorflow.keras.applications.xception import decode_predictions\n"
      ]
    },
    {
      "cell_type": "code",
      "execution_count": 2,
      "metadata": {
        "colab": {
          "base_uri": "https://localhost:8080/"
        },
        "id": "8B5i5udAYAer",
        "outputId": "3c4dd129-cf9a-4555-8e4d-f7b0c77fa21e"
      },
      "outputs": [
        {
          "name": "stdout",
          "output_type": "stream",
          "text": [
            "--2021-07-10 08:27:13--  https://github.com/pkdyn/ManningVsReilly/archive/refs/heads/main.zip\n",
            "Resolving github.com (github.com)... 140.82.112.3\n",
            "Connecting to github.com (github.com)|140.82.112.3|:443... connected.\n",
            "HTTP request sent, awaiting response... 302 Found\n",
            "Location: https://codeload.github.com/pkdyn/ManningVsReilly/zip/refs/heads/main [following]\n",
            "--2021-07-10 08:27:13--  https://codeload.github.com/pkdyn/ManningVsReilly/zip/refs/heads/main\n",
            "Resolving codeload.github.com (codeload.github.com)... 140.82.114.10\n",
            "Connecting to codeload.github.com (codeload.github.com)|140.82.114.10|:443... connected.\n",
            "HTTP request sent, awaiting response... 200 OK\n",
            "Length: unspecified [application/zip]\n",
            "Saving to: ‘main.zip’\n",
            "\n",
            "main.zip                [ <=>                ]   4.56M  28.7MB/s    in 0.2s    \n",
            "\n",
            "2021-07-10 08:27:13 (28.7 MB/s) - ‘main.zip’ saved [4779873]\n",
            "\n"
          ]
        }
      ],
      "source": [
        "\n",
        "!wget --no-check-certificate \\\n",
        "https://github.com/pkdyn/ManningVsReilly/archive/refs/heads/main.zip \n",
        "!unzip -q /content/main.zip\n",
        "!rm /content/main.zip\n",
        "\n"
      ]
    },
    {
      "cell_type": "code",
      "execution_count": 3,
      "metadata": {
        "colab": {
          "base_uri": "https://localhost:8080/"
        },
        "id": "JkeOI3lxfmPS",
        "outputId": "15729d66-33fc-4ee0-cfd2-ebfd8d181030"
      },
      "outputs": [
        {
          "name": "stdout",
          "output_type": "stream",
          "text": [
            "Found 480 images belonging to 2 classes.\n",
            "Found 120 images belonging to 2 classes.\n"
          ]
        }
      ],
      "source": [
        "from tensorflow.keras.applications.xception import preprocess_input\n",
        "from tensorflow.keras.preprocessing.image import ImageDataGenerator\n",
        "train_datagen = ImageDataGenerator(\n",
        "    rotation_range=30,\n",
        "    width_shift_range=30.0,\n",
        "    height_shift_range=30.0,\n",
        "    shear_range=10.0,\n",
        "    zoom_range=0.2,\n",
        "    horizontal_flip=True,\n",
        "    validation_split=0.2, \n",
        "    preprocessing_function=preprocess_input) \n",
        "\n",
        "train_ds = train_datagen.flow_from_directory(\n",
        "    \"/content/ManningVsReilly-main/cvr_ds/train\",\n",
        "    target_size=(100, 100),\n",
        "    batch_size=32,\n",
        "    shuffle=True,\n",
        "    class_mode='binary',\n",
        "    subset='training') \n",
        "\n",
        "val_ds = train_datagen.flow_from_directory(\n",
        "    \"/content/ManningVsReilly-main/cvr_ds/train\", \n",
        "    target_size=(100, 100),\n",
        "    batch_size=32,\n",
        "    shuffle=True,\n",
        "    class_mode='binary',\n",
        "    subset='validation') \n",
        "\n"
      ]
    },
    {
      "cell_type": "code",
      "execution_count": 5,
      "metadata": {
        "id": "6L-dBwoDWxyg"
      },
      "outputs": [],
      "source": [
        "def make_model(learning_rate, droprate, size):\n",
        "    base_model = Xception(\n",
        "        weights='imagenet',\n",
        "        input_shape=(100, 100, 3),\n",
        "        include_top=False\n",
        "    )\n",
        "\n",
        "    base_model.trainable = False\n",
        "\n",
        "    inputs = keras.Input(shape=(100, 100, 3))\n",
        "\n",
        "    base = base_model(inputs, training=False)\n",
        "    vector = keras.layers.GlobalAveragePooling2D()(base)\n",
        "    inner = keras.layers.Dense(size, activation='relu')(vector)\n",
        "    drop = keras.layers.Dropout(droprate)(inner)\n",
        "    outputs = keras.layers.Dense(1, activation='sigmoid')(drop)\n",
        "    model = keras.Model(inputs, outputs)\n",
        "    \n",
        "    model.compile(\n",
        "        optimizer=keras.optimizers.Adam(learning_rate),\n",
        "        loss=keras.losses.BinaryCrossentropy(),\n",
        "        metrics=[\"accuracy\"],\n",
        "    )\n",
        "    \n",
        "    return model"
      ]
    },
    {
      "cell_type": "code",
      "execution_count": 6,
      "metadata": {
        "colab": {
          "base_uri": "https://localhost:8080/",
          "height": 1000
        },
        "id": "2Dim70Z_X1LR",
        "outputId": "df99dfc9-b804-4e44-b231-ec75855a8894"
      },
      "outputs": [
        {
          "name": "stdout",
          "output_type": "stream",
          "text": [
            "Downloading data from https://storage.googleapis.com/tensorflow/keras-applications/xception/xception_weights_tf_dim_ordering_tf_kernels_notop.h5\n",
            "83689472/83683744 [==============================] - 0s 0us/step\n",
            "Epoch 1/15\n",
            "15/15 [==============================] - 35s 206ms/step - loss: 0.5195 - accuracy: 0.7937 - val_loss: 0.3550 - val_accuracy: 0.9250\n",
            "Epoch 2/15\n",
            "15/15 [==============================] - 2s 128ms/step - loss: 0.2496 - accuracy: 0.9583 - val_loss: 0.1701 - val_accuracy: 0.9750\n",
            "Epoch 3/15\n",
            "15/15 [==============================] - 2s 128ms/step - loss: 0.1151 - accuracy: 0.9854 - val_loss: 0.1142 - val_accuracy: 0.9667\n",
            "Epoch 4/15\n",
            "15/15 [==============================] - 2s 132ms/step - loss: 0.0956 - accuracy: 0.9771 - val_loss: 0.0849 - val_accuracy: 0.9750\n",
            "Epoch 5/15\n",
            "15/15 [==============================] - 2s 131ms/step - loss: 0.0875 - accuracy: 0.9771 - val_loss: 0.0743 - val_accuracy: 0.9750\n",
            "Epoch 6/15\n",
            "15/15 [==============================] - 2s 130ms/step - loss: 0.0678 - accuracy: 0.9792 - val_loss: 0.1148 - val_accuracy: 0.9417\n",
            "Epoch 7/15\n",
            "15/15 [==============================] - 2s 131ms/step - loss: 0.0482 - accuracy: 0.9875 - val_loss: 0.0799 - val_accuracy: 0.9750\n",
            "Epoch 8/15\n",
            "15/15 [==============================] - 2s 128ms/step - loss: 0.0390 - accuracy: 0.9937 - val_loss: 0.0469 - val_accuracy: 0.9917\n",
            "Epoch 9/15\n",
            "15/15 [==============================] - 2s 135ms/step - loss: 0.0438 - accuracy: 0.9917 - val_loss: 0.0502 - val_accuracy: 0.9833\n",
            "Epoch 10/15\n",
            "15/15 [==============================] - 2s 134ms/step - loss: 0.0543 - accuracy: 0.9875 - val_loss: 0.0331 - val_accuracy: 0.9917\n",
            "Epoch 11/15\n",
            "15/15 [==============================] - 2s 134ms/step - loss: 0.0300 - accuracy: 0.9937 - val_loss: 0.0322 - val_accuracy: 0.9917\n",
            "Epoch 12/15\n",
            "15/15 [==============================] - 2s 132ms/step - loss: 0.0320 - accuracy: 0.9937 - val_loss: 0.0364 - val_accuracy: 0.9917\n",
            "Epoch 13/15\n",
            "15/15 [==============================] - 2s 135ms/step - loss: 0.0364 - accuracy: 0.9917 - val_loss: 0.0482 - val_accuracy: 0.9917\n",
            "Epoch 14/15\n",
            "15/15 [==============================] - 2s 134ms/step - loss: 0.0357 - accuracy: 0.9937 - val_loss: 0.0242 - val_accuracy: 1.0000\n",
            "Epoch 15/15\n",
            "15/15 [==============================] - 2s 132ms/step - loss: 0.0342 - accuracy: 0.9937 - val_loss: 0.0339 - val_accuracy: 0.9833\n",
            "Epoch 1/15\n",
            "15/15 [==============================] - 5s 194ms/step - loss: 0.6500 - accuracy: 0.6292 - val_loss: 0.6128 - val_accuracy: 0.6750\n",
            "Epoch 2/15\n",
            "15/15 [==============================] - 2s 130ms/step - loss: 0.5814 - accuracy: 0.7271 - val_loss: 0.5529 - val_accuracy: 0.7917\n",
            "Epoch 3/15\n",
            "15/15 [==============================] - 2s 131ms/step - loss: 0.5140 - accuracy: 0.8146 - val_loss: 0.4790 - val_accuracy: 0.8583\n",
            "Epoch 4/15\n",
            "15/15 [==============================] - 2s 133ms/step - loss: 0.4472 - accuracy: 0.9083 - val_loss: 0.4462 - val_accuracy: 0.8333\n",
            "Epoch 5/15\n",
            "15/15 [==============================] - 2s 132ms/step - loss: 0.3947 - accuracy: 0.9042 - val_loss: 0.3976 - val_accuracy: 0.8750\n",
            "Epoch 6/15\n",
            "15/15 [==============================] - 2s 134ms/step - loss: 0.3591 - accuracy: 0.9312 - val_loss: 0.3207 - val_accuracy: 0.9083\n",
            "Epoch 7/15\n",
            "15/15 [==============================] - 2s 133ms/step - loss: 0.2952 - accuracy: 0.9500 - val_loss: 0.2779 - val_accuracy: 0.9417\n",
            "Epoch 8/15\n",
            "15/15 [==============================] - 2s 136ms/step - loss: 0.2496 - accuracy: 0.9604 - val_loss: 0.2743 - val_accuracy: 0.9167\n",
            "Epoch 9/15\n",
            "15/15 [==============================] - 2s 136ms/step - loss: 0.2270 - accuracy: 0.9688 - val_loss: 0.2198 - val_accuracy: 0.9417\n",
            "Epoch 10/15\n",
            "15/15 [==============================] - 2s 134ms/step - loss: 0.1998 - accuracy: 0.9646 - val_loss: 0.2151 - val_accuracy: 0.9583\n",
            "Epoch 11/15\n",
            "15/15 [==============================] - 2s 134ms/step - loss: 0.1889 - accuracy: 0.9646 - val_loss: 0.2059 - val_accuracy: 0.9667\n",
            "Epoch 12/15\n",
            "15/15 [==============================] - 2s 133ms/step - loss: 0.1625 - accuracy: 0.9812 - val_loss: 0.1722 - val_accuracy: 0.9417\n",
            "Epoch 13/15\n",
            "15/15 [==============================] - 2s 134ms/step - loss: 0.1556 - accuracy: 0.9646 - val_loss: 0.1723 - val_accuracy: 0.9500\n",
            "Epoch 14/15\n",
            "15/15 [==============================] - 2s 132ms/step - loss: 0.1388 - accuracy: 0.9750 - val_loss: 0.1310 - val_accuracy: 0.9750\n",
            "Epoch 15/15\n",
            "15/15 [==============================] - 2s 133ms/step - loss: 0.1241 - accuracy: 0.9812 - val_loss: 0.1432 - val_accuracy: 0.9583\n"
          ]
        },
        {
          "data": {
            "image/png": "[encoded data removed]",
            "text/plain": [
              "<Figure size 432x288 with 1 Axes>"
            ]
          },
          "metadata": {
            "needs_background": "light",
            "tags": []
          },
          "output_type": "display_data"
        }
      ],
      "source": [
        "model = make_model(learning_rate=0.001, droprate=0.0, size=10)\n",
        "history_0_001 = model.fit(train_ds, epochs=15, validation_data=val_ds)\n",
        "model = make_model(learning_rate=0.0001, droprate=0.0, size=10)\n",
        "history_0_0001 = model.fit(train_ds, epochs=15, validation_data=val_ds)\n",
        "\n",
        "\n",
        "epochs = np.arange(15)\n",
        "val_0_001 = history_0_001.history['val_accuracy']\n",
        "val_0_0001 = history_0_0001.history['val_accuracy']\n",
        "\n",
        "\n",
        "plt.figure(figsize=(6, 4))\n",
        "\n",
        "plt.plot(epochs, val_0_001, color='blue', linestyle='solid', label='0.001')\n",
        "plt.plot(epochs, val_0_0001, color='green', linestyle='solid', label='0.0001')\n",
        "plt.title('Xception v1, different learning rates')\n",
        "plt.xlabel('Epoch')\n",
        "plt.ylabel('Accuracy')\n",
        "\n",
        "plt.xticks(epochs)\n",
        "plt.legend()\n",
        "plt.show()"
      ]
    },
    {
      "cell_type": "code",
      "execution_count": 7,
      "metadata": {
        "colab": {
          "base_uri": "https://localhost:8080/",
          "height": 1000
        },
        "id": "_y3uQwRBsMe5",
        "outputId": "4fde7639-ab4a-493d-ba5e-2dcd0a20bafe"
      },
      "outputs": [
        {
          "name": "stdout",
          "output_type": "stream",
          "text": [
            "Epoch 1/15\n",
            "15/15 [==============================] - 5s 183ms/step - loss: 0.6312 - accuracy: 0.6646 - val_loss: 0.5417 - val_accuracy: 0.7917\n",
            "Epoch 2/15\n",
            "15/15 [==============================] - 2s 134ms/step - loss: 0.5152 - accuracy: 0.7979 - val_loss: 0.4383 - val_accuracy: 0.9167\n",
            "Epoch 3/15\n",
            "15/15 [==============================] - 2s 133ms/step - loss: 0.4787 - accuracy: 0.7854 - val_loss: 0.3695 - val_accuracy: 0.9417\n",
            "Epoch 4/15\n",
            "15/15 [==============================] - 2s 134ms/step - loss: 0.4112 - accuracy: 0.8917 - val_loss: 0.3160 - val_accuracy: 0.9833\n",
            "Epoch 5/15\n",
            "15/15 [==============================] - 2s 134ms/step - loss: 0.3807 - accuracy: 0.8896 - val_loss: 0.3041 - val_accuracy: 0.9667\n",
            "Epoch 6/15\n",
            "15/15 [==============================] - 2s 135ms/step - loss: 0.3525 - accuracy: 0.8958 - val_loss: 0.2548 - val_accuracy: 0.9833\n",
            "Epoch 7/15\n",
            "15/15 [==============================] - 2s 135ms/step - loss: 0.3268 - accuracy: 0.9104 - val_loss: 0.2354 - val_accuracy: 0.9667\n",
            "Epoch 8/15\n",
            "15/15 [==============================] - 2s 135ms/step - loss: 0.3194 - accuracy: 0.9083 - val_loss: 0.2025 - val_accuracy: 0.9667\n",
            "Epoch 9/15\n",
            "15/15 [==============================] - 2s 134ms/step - loss: 0.3049 - accuracy: 0.9146 - val_loss: 0.1918 - val_accuracy: 0.9667\n",
            "Epoch 10/15\n",
            "15/15 [==============================] - 2s 138ms/step - loss: 0.2980 - accuracy: 0.9250 - val_loss: 0.1478 - val_accuracy: 1.0000\n",
            "Epoch 11/15\n",
            "15/15 [==============================] - 2s 134ms/step - loss: 0.2546 - accuracy: 0.9563 - val_loss: 0.1523 - val_accuracy: 0.9833\n",
            "Epoch 12/15\n",
            "15/15 [==============================] - 2s 135ms/step - loss: 0.2966 - accuracy: 0.9042 - val_loss: 0.1795 - val_accuracy: 0.9667\n",
            "Epoch 13/15\n",
            "15/15 [==============================] - 2s 134ms/step - loss: 0.2708 - accuracy: 0.9542 - val_loss: 0.1768 - val_accuracy: 0.9833\n",
            "Epoch 14/15\n",
            "15/15 [==============================] - 2s 135ms/step - loss: 0.2461 - accuracy: 0.9542 - val_loss: 0.1532 - val_accuracy: 0.9833\n",
            "Epoch 15/15\n",
            "15/15 [==============================] - 2s 134ms/step - loss: 0.2766 - accuracy: 0.9208 - val_loss: 0.1233 - val_accuracy: 1.0000\n",
            "Epoch 1/15\n",
            "15/15 [==============================] - 5s 186ms/step - loss: 0.5780 - accuracy: 0.6875 - val_loss: 0.3267 - val_accuracy: 0.9583\n",
            "Epoch 2/15\n",
            "15/15 [==============================] - 2s 136ms/step - loss: 0.3350 - accuracy: 0.8625 - val_loss: 0.1682 - val_accuracy: 0.9667\n",
            "Epoch 3/15\n",
            "15/15 [==============================] - 2s 132ms/step - loss: 0.1935 - accuracy: 0.9292 - val_loss: 0.1341 - val_accuracy: 0.9667\n",
            "Epoch 4/15\n",
            "15/15 [==============================] - 2s 134ms/step - loss: 0.1654 - accuracy: 0.9458 - val_loss: 0.1091 - val_accuracy: 0.9750\n",
            "Epoch 5/15\n",
            "15/15 [==============================] - 2s 135ms/step - loss: 0.1434 - accuracy: 0.9479 - val_loss: 0.0911 - val_accuracy: 0.9750\n",
            "Epoch 6/15\n",
            "15/15 [==============================] - 2s 136ms/step - loss: 0.1585 - accuracy: 0.9542 - val_loss: 0.0727 - val_accuracy: 0.9833\n",
            "Epoch 7/15\n",
            "15/15 [==============================] - 2s 137ms/step - loss: 0.1142 - accuracy: 0.9708 - val_loss: 0.0476 - val_accuracy: 0.9917\n",
            "Epoch 8/15\n",
            "15/15 [==============================] - 2s 136ms/step - loss: 0.0794 - accuracy: 0.9750 - val_loss: 0.0636 - val_accuracy: 0.9667\n",
            "Epoch 9/15\n",
            "15/15 [==============================] - 2s 139ms/step - loss: 0.0983 - accuracy: 0.9729 - val_loss: 0.0335 - val_accuracy: 1.0000\n",
            "Epoch 10/15\n",
            "15/15 [==============================] - 2s 135ms/step - loss: 0.0684 - accuracy: 0.9812 - val_loss: 0.0419 - val_accuracy: 0.9917\n",
            "Epoch 11/15\n",
            "15/15 [==============================] - 2s 137ms/step - loss: 0.0932 - accuracy: 0.9667 - val_loss: 0.0622 - val_accuracy: 0.9667\n",
            "Epoch 12/15\n",
            "15/15 [==============================] - 2s 138ms/step - loss: 0.0864 - accuracy: 0.9771 - val_loss: 0.0605 - val_accuracy: 0.9917\n",
            "Epoch 13/15\n",
            "15/15 [==============================] - 2s 138ms/step - loss: 0.0533 - accuracy: 0.9854 - val_loss: 0.0314 - val_accuracy: 0.9917\n",
            "Epoch 14/15\n",
            "15/15 [==============================] - 2s 138ms/step - loss: 0.0819 - accuracy: 0.9833 - val_loss: 0.0562 - val_accuracy: 0.9750\n",
            "Epoch 15/15\n",
            "15/15 [==============================] - 2s 139ms/step - loss: 0.0717 - accuracy: 0.9771 - val_loss: 0.0290 - val_accuracy: 0.9917\n",
            "Epoch 1/15\n",
            "15/15 [==============================] - 5s 188ms/step - loss: 0.6472 - accuracy: 0.6083 - val_loss: 0.4837 - val_accuracy: 0.9167\n",
            "Epoch 2/15\n",
            "15/15 [==============================] - 2s 139ms/step - loss: 0.4902 - accuracy: 0.6854 - val_loss: 0.3147 - val_accuracy: 0.9583\n",
            "Epoch 3/15\n",
            "15/15 [==============================] - 2s 136ms/step - loss: 0.4121 - accuracy: 0.7792 - val_loss: 0.2790 - val_accuracy: 0.9500\n",
            "Epoch 4/15\n",
            "15/15 [==============================] - 2s 138ms/step - loss: 0.3698 - accuracy: 0.8083 - val_loss: 0.2039 - val_accuracy: 0.9500\n",
            "Epoch 5/15\n",
            "15/15 [==============================] - 2s 137ms/step - loss: 0.3461 - accuracy: 0.7958 - val_loss: 0.1977 - val_accuracy: 0.9750\n",
            "Epoch 6/15\n",
            "15/15 [==============================] - 2s 137ms/step - loss: 0.3442 - accuracy: 0.7667 - val_loss: 0.1579 - val_accuracy: 0.9667\n",
            "Epoch 7/15\n",
            "15/15 [==============================] - 2s 138ms/step - loss: 0.2977 - accuracy: 0.8083 - val_loss: 0.1215 - val_accuracy: 0.9833\n",
            "Epoch 8/15\n",
            "15/15 [==============================] - 2s 136ms/step - loss: 0.3042 - accuracy: 0.8458 - val_loss: 0.1216 - val_accuracy: 0.9667\n",
            "Epoch 9/15\n",
            "15/15 [==============================] - 2s 138ms/step - loss: 0.2732 - accuracy: 0.8729 - val_loss: 0.1498 - val_accuracy: 0.9333\n",
            "Epoch 10/15\n",
            "15/15 [==============================] - 2s 137ms/step - loss: 0.2255 - accuracy: 0.8833 - val_loss: 0.1223 - val_accuracy: 0.9667\n",
            "Epoch 11/15\n",
            "15/15 [==============================] - 2s 136ms/step - loss: 0.2593 - accuracy: 0.8813 - val_loss: 0.1034 - val_accuracy: 0.9917\n",
            "Epoch 12/15\n",
            "15/15 [==============================] - 2s 135ms/step - loss: 0.2176 - accuracy: 0.8896 - val_loss: 0.1187 - val_accuracy: 0.9667\n",
            "Epoch 13/15\n",
            "15/15 [==============================] - 2s 137ms/step - loss: 0.2474 - accuracy: 0.8917 - val_loss: 0.0832 - val_accuracy: 0.9750\n",
            "Epoch 14/15\n",
            "15/15 [==============================] - 2s 134ms/step - loss: 0.2717 - accuracy: 0.8771 - val_loss: 0.1099 - val_accuracy: 0.9667\n",
            "Epoch 15/15\n",
            "15/15 [==============================] - 2s 135ms/step - loss: 0.2230 - accuracy: 0.9083 - val_loss: 0.1043 - val_accuracy: 0.9750\n",
            "Epoch 1/15\n",
            "15/15 [==============================] - 5s 184ms/step - loss: 0.5809 - accuracy: 0.6875 - val_loss: 0.4118 - val_accuracy: 0.9083\n",
            "Epoch 2/15\n",
            "15/15 [==============================] - 2s 135ms/step - loss: 0.3705 - accuracy: 0.8625 - val_loss: 0.2008 - val_accuracy: 0.9750\n",
            "Epoch 3/15\n",
            "15/15 [==============================] - 2s 142ms/step - loss: 0.2628 - accuracy: 0.8958 - val_loss: 0.1564 - val_accuracy: 0.9500\n",
            "Epoch 4/15\n",
            "15/15 [==============================] - 2s 137ms/step - loss: 0.2357 - accuracy: 0.9208 - val_loss: 0.1434 - val_accuracy: 0.9417\n",
            "Epoch 5/15\n",
            "15/15 [==============================] - 2s 137ms/step - loss: 0.1795 - accuracy: 0.9271 - val_loss: 0.1348 - val_accuracy: 0.9583\n",
            "Epoch 6/15\n",
            "15/15 [==============================] - 2s 136ms/step - loss: 0.2080 - accuracy: 0.9396 - val_loss: 0.1069 - val_accuracy: 0.9833\n",
            "Epoch 7/15\n",
            "15/15 [==============================] - 2s 135ms/step - loss: 0.1526 - accuracy: 0.9583 - val_loss: 0.0839 - val_accuracy: 0.9667\n",
            "Epoch 8/15\n",
            "15/15 [==============================] - 2s 136ms/step - loss: 0.1427 - accuracy: 0.9542 - val_loss: 0.0598 - val_accuracy: 0.9917\n",
            "Epoch 9/15\n",
            "15/15 [==============================] - 2s 137ms/step - loss: 0.1344 - accuracy: 0.9667 - val_loss: 0.0697 - val_accuracy: 0.9833\n",
            "Epoch 10/15\n",
            "15/15 [==============================] - 2s 136ms/step - loss: 0.0985 - accuracy: 0.9792 - val_loss: 0.0703 - val_accuracy: 0.9750\n",
            "Epoch 11/15\n",
            "15/15 [==============================] - 2s 136ms/step - loss: 0.1222 - accuracy: 0.9688 - val_loss: 0.0823 - val_accuracy: 0.9667\n",
            "Epoch 12/15\n",
            "15/15 [==============================] - 2s 136ms/step - loss: 0.1012 - accuracy: 0.9708 - val_loss: 0.0532 - val_accuracy: 0.9833\n",
            "Epoch 13/15\n",
            "15/15 [==============================] - 2s 138ms/step - loss: 0.1414 - accuracy: 0.9604 - val_loss: 0.0476 - val_accuracy: 1.0000\n",
            "Epoch 14/15\n",
            "15/15 [==============================] - 2s 134ms/step - loss: 0.1242 - accuracy: 0.9625 - val_loss: 0.0527 - val_accuracy: 0.9750\n",
            "Epoch 15/15\n",
            "15/15 [==============================] - 2s 133ms/step - loss: 0.1141 - accuracy: 0.9583 - val_loss: 0.0580 - val_accuracy: 0.9833\n"
          ]
        },
        {
          "data": {
            "image/png": "[encoded data removed]",
            "text/plain": [
              "<Figure size 432x288 with 1 Axes>"
            ]
          },
          "metadata": {
            "needs_background": "light",
            "tags": []
          },
          "output_type": "display_data"
        }
      ],
      "source": [
        "\n",
        "model = make_model(learning_rate=0.001, droprate=0.6, size=10)\n",
        "history_10_6_001 = model.fit(train_ds, epochs=15, validation_data=val_ds)\n",
        "model = make_model(learning_rate=0.001, droprate=0.6, size=25)\n",
        "history_25_6_001 = model.fit(train_ds, epochs=15, validation_data=val_ds)\n",
        "\n",
        "\n",
        "model = make_model(learning_rate=0.001, droprate=0.7, size=10)\n",
        "history_10_7_001 = model.fit(train_ds, epochs=15, validation_data=val_ds)\n",
        "model = make_model(learning_rate=0.001, droprate=0.7, size=25)\n",
        "history_25_7_001 = model.fit(train_ds, epochs=15, validation_data=val_ds)\n",
        "\n",
        "\n",
        "epochs = np.arange(15)\n",
        "val_10_6_001 = history_10_6_001.history['val_accuracy']\n",
        "val_25_6_001 = history_25_6_001.history['val_accuracy']\n",
        "\n",
        "val_10_7_001 = history_10_7_001.history['val_accuracy']\n",
        "val_25_7_001 = history_25_7_001.history['val_accuracy']\n",
        "\n",
        "plt.figure(figsize=(6, 4))\n",
        "plt.plot(epochs, val_10_6_001, color='green', linestyle='dotted', label='0.001, 0.6, 10')\n",
        "plt.plot(epochs, val_25_6_001, color='green', linestyle='solid', label='0.001, 0.6, 25')\n",
        "\n",
        "plt.plot(epochs, val_10_7_001, color='blue', linestyle='dotted', label='0.001, 0.7, 10')\n",
        "plt.plot(epochs, val_25_7_001, color='blue', linestyle='solid', label='0.001, 0.7, 25')\n",
        "\n",
        "plt.title('Xception v2, different inner layer sizes ')\n",
        "plt.xlabel('Epoch')\n",
        "plt.ylabel('Accuracy')\n",
        "plt.xticks(epochs)\n",
        "plt.legend()\n",
        "plt.show()"
      ]
    },
    {
      "cell_type": "code",
      "execution_count": 8,
      "metadata": {
        "colab": {
          "base_uri": "https://localhost:8080/"
        },
        "id": "UTltqceU3AyF",
        "outputId": "97e0b5d4-a087-43d4-f1dd-34c95d95a690"
      },
      "outputs": [
        {
          "name": "stdout",
          "output_type": "stream",
          "text": [
            "Epoch 1/30\n",
            "15/15 [==============================] - 5s 187ms/step - loss: 0.4808 - accuracy: 0.7771 - val_loss: 0.3194 - val_accuracy: 0.8667\n",
            "Epoch 2/30\n",
            "15/15 [==============================] - 2s 136ms/step - loss: 0.2475 - accuracy: 0.8979 - val_loss: 0.2168 - val_accuracy: 0.9167\n",
            "Epoch 3/30\n",
            "15/15 [==============================] - 2s 133ms/step - loss: 0.2135 - accuracy: 0.9250 - val_loss: 0.1013 - val_accuracy: 0.9667\n",
            "Epoch 4/30\n",
            "15/15 [==============================] - 2s 134ms/step - loss: 0.1383 - accuracy: 0.9625 - val_loss: 0.1042 - val_accuracy: 0.9667\n",
            "Epoch 5/30\n",
            "15/15 [==============================] - 2s 133ms/step - loss: 0.1374 - accuracy: 0.9417 - val_loss: 0.1195 - val_accuracy: 0.9750\n",
            "Epoch 6/30\n",
            "15/15 [==============================] - 2s 132ms/step - loss: 0.0877 - accuracy: 0.9667 - val_loss: 0.0503 - val_accuracy: 0.9750\n",
            "Epoch 7/30\n",
            "15/15 [==============================] - 2s 134ms/step - loss: 0.0825 - accuracy: 0.9771 - val_loss: 0.0519 - val_accuracy: 0.9833\n",
            "Epoch 8/30\n",
            "15/15 [==============================] - 2s 135ms/step - loss: 0.0718 - accuracy: 0.9708 - val_loss: 0.0760 - val_accuracy: 0.9750\n",
            "Epoch 9/30\n",
            "15/15 [==============================] - 2s 134ms/step - loss: 0.0712 - accuracy: 0.9771 - val_loss: 0.0237 - val_accuracy: 1.0000\n",
            "Epoch 10/30\n",
            "15/15 [==============================] - 2s 133ms/step - loss: 0.0914 - accuracy: 0.9688 - val_loss: 0.0676 - val_accuracy: 0.9833\n",
            "Epoch 11/30\n",
            "15/15 [==============================] - 2s 133ms/step - loss: 0.1196 - accuracy: 0.9542 - val_loss: 0.0584 - val_accuracy: 0.9750\n",
            "Epoch 12/30\n",
            "15/15 [==============================] - 2s 134ms/step - loss: 0.0744 - accuracy: 0.9833 - val_loss: 0.0237 - val_accuracy: 0.9917\n",
            "Epoch 13/30\n",
            "15/15 [==============================] - 2s 136ms/step - loss: 0.0974 - accuracy: 0.9563 - val_loss: 0.0461 - val_accuracy: 0.9833\n",
            "Epoch 14/30\n",
            "15/15 [==============================] - 2s 135ms/step - loss: 0.0857 - accuracy: 0.9750 - val_loss: 0.0167 - val_accuracy: 1.0000\n",
            "Epoch 15/30\n",
            "15/15 [==============================] - 2s 135ms/step - loss: 0.0567 - accuracy: 0.9875 - val_loss: 0.0531 - val_accuracy: 0.9833\n",
            "Epoch 16/30\n",
            "15/15 [==============================] - 2s 136ms/step - loss: 0.0658 - accuracy: 0.9854 - val_loss: 0.0775 - val_accuracy: 0.9667\n",
            "Epoch 17/30\n",
            "15/15 [==============================] - 2s 136ms/step - loss: 0.0634 - accuracy: 0.9854 - val_loss: 0.0581 - val_accuracy: 0.9750\n",
            "Epoch 18/30\n",
            "15/15 [==============================] - 2s 137ms/step - loss: 0.0746 - accuracy: 0.9729 - val_loss: 0.0429 - val_accuracy: 0.9833\n",
            "Epoch 19/30\n",
            "15/15 [==============================] - 2s 134ms/step - loss: 0.0613 - accuracy: 0.9833 - val_loss: 0.0281 - val_accuracy: 0.9833\n",
            "Epoch 20/30\n",
            "15/15 [==============================] - 2s 133ms/step - loss: 0.0670 - accuracy: 0.9771 - val_loss: 0.0323 - val_accuracy: 0.9917\n",
            "Epoch 21/30\n",
            "15/15 [==============================] - 2s 134ms/step - loss: 0.0419 - accuracy: 0.9875 - val_loss: 0.0572 - val_accuracy: 0.9917\n",
            "Epoch 22/30\n",
            "15/15 [==============================] - 2s 138ms/step - loss: 0.0472 - accuracy: 0.9875 - val_loss: 0.0241 - val_accuracy: 0.9917\n",
            "Epoch 23/30\n",
            "15/15 [==============================] - 2s 135ms/step - loss: 0.0373 - accuracy: 0.9917 - val_loss: 0.0567 - val_accuracy: 0.9750\n",
            "Epoch 24/30\n",
            "15/15 [==============================] - 2s 135ms/step - loss: 0.0449 - accuracy: 0.9792 - val_loss: 0.0594 - val_accuracy: 0.9750\n",
            "Epoch 25/30\n",
            "15/15 [==============================] - 2s 136ms/step - loss: 0.0540 - accuracy: 0.9854 - val_loss: 0.0794 - val_accuracy: 0.9833\n",
            "Epoch 26/30\n",
            "15/15 [==============================] - 2s 136ms/step - loss: 0.0442 - accuracy: 0.9875 - val_loss: 0.0488 - val_accuracy: 0.9833\n",
            "Epoch 27/30\n",
            "15/15 [==============================] - 2s 135ms/step - loss: 0.0604 - accuracy: 0.9792 - val_loss: 0.0378 - val_accuracy: 0.9833\n",
            "Epoch 28/30\n",
            "15/15 [==============================] - 2s 133ms/step - loss: 0.0560 - accuracy: 0.9875 - val_loss: 0.0366 - val_accuracy: 0.9917\n",
            "Epoch 29/30\n",
            "15/15 [==============================] - 2s 134ms/step - loss: 0.0493 - accuracy: 0.9812 - val_loss: 0.0237 - val_accuracy: 0.9917\n",
            "Epoch 30/30\n",
            "15/15 [==============================] - 2s 134ms/step - loss: 0.0519 - accuracy: 0.9854 - val_loss: 0.0431 - val_accuracy: 0.9750\n"
          ]
        },
        {
          "data": {
            "text/plain": [
              "<tensorflow.python.keras.callbacks.History at 0x7f1e48e58310>"
            ]
          },
          "execution_count": 8,
          "metadata": {
            "tags": []
          },
          "output_type": "execute_result"
        }
      ],
      "source": [
        "model = make_model(learning_rate=0.001, droprate=0.6, size=25)\n",
        "model.fit(train_ds, epochs=30, validation_data=val_ds)"
      ]
    },
    {
      "cell_type": "code",
      "execution_count": 10,
      "metadata": {
        "colab": {
          "base_uri": "https://localhost:8080/",
          "height": 1000,
          "resources": {
            "http://localhost:8080/nbextensions/google.colab/files.js": {
              "data": "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",
              "headers": [
                [
                  "content-type",
                  "application/javascript"
                ]
              ],
              "ok": true,
              "status": 200,
              "status_text": ""
            }
          }
        },
        "id": "TpIdRisVEKUg",
        "outputId": "63e0634f-ed0c-4610-b45a-f960960b0237"
      },
      "outputs": [
        {
          "data": {
            "text/html": [
              "\n",
              "     <input type=\"file\" id=\"files-e2681383-b0d4-4c2e-b5dd-e9b37a6e0862\" name=\"files[]\" multiple disabled\n",
              "        style=\"border:none\" />\n",
              "     <output id=\"result-e2681383-b0d4-4c2e-b5dd-e9b37a6e0862\">\n",
              "      Upload widget is only available when the cell has been executed in the\n",
              "      current browser session. Please rerun this cell to enable.\n",
              "      </output>\n",
              "      <script src=\"/nbextensions/google.colab/files.js\"></script> "
            ],
            "text/plain": [
              "<IPython.core.display.HTML object>"
            ]
          },
          "metadata": {
            "tags": []
          },
          "output_type": "display_data"
        },
        {
          "name": "stdout",
          "output_type": "stream",
          "text": [
            "Saving 0e23cee3e14fbc65fd455a1992f6aa5d.jpg to 0e23cee3e14fbc65fd455a1992f6aa5d.jpg\n",
            "Saving 1e651dc6f9f054acc6fba6d217fb78a1.jpg to 1e651dc6f9f054acc6fba6d217fb78a1.jpg\n",
            "Saving 3d313cc165455123cb9c7d71c508481c.jpg to 3d313cc165455123cb9c7d71c508481c.jpg\n",
            "Saving 3e0319aad43f2d3b44813e43e43ad4ce.jpg to 3e0319aad43f2d3b44813e43e43ad4ce.jpg\n",
            "Saving 7b87e4c71c174cc2ba73730cd1091026.jpg to 7b87e4c71c174cc2ba73730cd1091026.jpg\n",
            "Saving 7bfefd8d49a674fe186388bdb5927432.jpg to 7bfefd8d49a674fe186388bdb5927432.jpg\n",
            "Saving 7c3455f77c8ff86110e07859215b6b97.jpg to 7c3455f77c8ff86110e07859215b6b97.jpg\n",
            "Saving 44b617061614853f0a492756e0a72df5.jpg to 44b617061614853f0a492756e0a72df5.jpg\n",
            "Saving 45b16e5f9e6d7af59c62bbe82e2ceef8.jpg to 45b16e5f9e6d7af59c62bbe82e2ceef8.jpg\n",
            "Saving 61c39504fbe9c641dd3c4f5ddb25d1b6.jpg to 61c39504fbe9c641dd3c4f5ddb25d1b6.jpg\n",
            "Saving 67bf0162f8fffe603ab2171e15878aec.jpg to 67bf0162f8fffe603ab2171e15878aec.jpg\n",
            "Saving 596c1d3c55b73ed374a7fba8d856589e.jpg to 596c1d3c55b73ed374a7fba8d856589e.jpg\n",
            "Saving 0894fd34403f523ce8da2ee4559a7898.jpg to 0894fd34403f523ce8da2ee4559a7898.jpg\n",
            "Saving 3408a5d02b003ffe3efcb3a2c1385e2b.jpg to 3408a5d02b003ffe3efcb3a2c1385e2b.jpg\n",
            "Saving 2638574718e4ef2e612b13081875120b.jpg to 2638574718e4ef2e612b13081875120b.jpg\n",
            "Saving b61614af527dc507a1cc0500b9379c1e.jpg to b61614af527dc507a1cc0500b9379c1e.jpg\n",
            "Saving bea7e808c09be18b53a893e70ec90178.jpg to bea7e808c09be18b53a893e70ec90178.jpg\n",
            "Saving c1e95c0d977e9cbd3fdfacd1e6e35133.jpg to c1e95c0d977e9cbd3fdfacd1e6e35133.jpg\n",
            "Saving c03b74e160a20e4886e2ee23d6f59f22.jpg to c03b74e160a20e4886e2ee23d6f59f22.jpg\n",
            "Saving download.jfif to download.jfif\n",
            "Saving e5d64f01be26938e282317e72105b63d.jpg to e5d64f01be26938e282317e72105b63d.jpg\n",
            "Saving e9c9ad44ab79d90ba16076630cbe3f54.jpg to e9c9ad44ab79d90ba16076630cbe3f54.jpg\n",
            "Saving f33540b12ec6e79853764e6901736e96.jpg to f33540b12ec6e79853764e6901736e96.jpg\n",
            "Saving f93055c73351ebc1980686c99e3a7c51.jpg to f93055c73351ebc1980686c99e3a7c51.jpg\n",
            "[[0.00014293]]\n",
            "[0.00014293]\n",
            "0e23cee3e14fbc65fd455a1992f6aa5d.jpg is a Manning book\n",
            "[[0.00343631]]\n",
            "[0.00343631]\n",
            "1e651dc6f9f054acc6fba6d217fb78a1.jpg is a Manning book\n",
            "[[0.00815508]]\n",
            "[0.00815508]\n",
            "3d313cc165455123cb9c7d71c508481c.jpg is a Manning book\n",
            "[[0.01832473]]\n",
            "[0.01832473]\n",
            "3e0319aad43f2d3b44813e43e43ad4ce.jpg is a Manning book\n",
            "[[0.04952313]]\n",
            "[0.04952313]\n",
            "7b87e4c71c174cc2ba73730cd1091026.jpg is a Manning book\n",
            "[[0.00157172]]\n",
            "[0.00157172]\n",
            "7bfefd8d49a674fe186388bdb5927432.jpg is a Manning book\n",
            "[[0.00217323]]\n",
            "[0.00217323]\n",
            "7c3455f77c8ff86110e07859215b6b97.jpg is a Manning book\n",
            "[[0.03070244]]\n",
            "[0.03070244]\n",
            "44b617061614853f0a492756e0a72df5.jpg is a Manning book\n",
            "[[2.9765704e-05]]\n",
            "[2.9765704e-05]\n",
            "45b16e5f9e6d7af59c62bbe82e2ceef8.jpg is a Manning book\n",
            "[[0.00958814]]\n",
            "[0.00958814]\n",
            "61c39504fbe9c641dd3c4f5ddb25d1b6.jpg is a Manning book\n",
            "[[0.00836256]]\n",
            "[0.00836256]\n",
            "67bf0162f8fffe603ab2171e15878aec.jpg is a Manning book\n",
            "[[0.00047483]]\n",
            "[0.00047483]\n",
            "596c1d3c55b73ed374a7fba8d856589e.jpg is a Manning book\n",
            "[[0.02786455]]\n",
            "[0.02786455]\n",
            "0894fd34403f523ce8da2ee4559a7898.jpg is a Manning book\n",
            "[[0.00222506]]\n",
            "[0.00222506]\n",
            "3408a5d02b003ffe3efcb3a2c1385e2b.jpg is a Manning book\n",
            "[[0.00714596]]\n",
            "[0.00714596]\n",
            "2638574718e4ef2e612b13081875120b.jpg is a Manning book\n",
            "[[0.0063385]]\n",
            "[0.0063385]\n",
            "b61614af527dc507a1cc0500b9379c1e.jpg is a Manning book\n",
            "[[0.00024153]]\n",
            "[0.00024153]\n",
            "bea7e808c09be18b53a893e70ec90178.jpg is a Manning book\n",
            "[[0.00036942]]\n",
            "[0.00036942]\n",
            "c1e95c0d977e9cbd3fdfacd1e6e35133.jpg is a Manning book\n",
            "[[0.00274134]]\n",
            "[0.00274134]\n",
            "c03b74e160a20e4886e2ee23d6f59f22.jpg is a Manning book\n",
            "[[0.97431415]]\n",
            "[0.97431415]\n",
            "download.jfif is an O'Reilly book\n",
            "[[0.00072539]]\n",
            "[0.00072539]\n",
            "e5d64f01be26938e282317e72105b63d.jpg is a Manning book\n",
            "[[0.63397664]]\n",
            "[0.63397664]\n",
            "e9c9ad44ab79d90ba16076630cbe3f54.jpg is an O'Reilly book\n",
            "[[9.169899e-06]]\n",
            "[9.169899e-06]\n",
            "f33540b12ec6e79853764e6901736e96.jpg is a Manning book\n",
            "[[0.00826752]]\n",
            "[0.00826752]\n",
            "f93055c73351ebc1980686c99e3a7c51.jpg is a Manning book\n"
          ]
        }
      ],
      "source": [
        "from keras.preprocessing import image\n",
        "from google.colab import files\n",
        "uploaded = files.upload()\n",
        "for fn in uploaded.keys():\n",
        "\n",
        "  path= '/content/' + fn\n",
        "  img = image.load_img(path, target_size=(100, 100))\n",
        "  x = np.array(img)\n",
        "  X = np.array([x])\n",
        "  X = preprocess_input(X)\n",
        "  pred = model.predict(X)\n",
        "  print(pred)\n",
        "  print(pred[0])\n",
        "  if pred[0]>0.5:\n",
        "    print(fn + \" is an O'Reilly book\")\n",
        "  else:\n",
        "    print(fn + \" is a Manning book\")"
      ]
    },
    {
      "cell_type": "code",
      "execution_count": null,
      "metadata": {
        "id": "2wZBd6npDtwg"
      },
      "outputs": [],
      "source": []
    }
  ],
  "metadata": {
    "accelerator": "GPU",
    "colab": {
      "collapsed_sections": [],
      "include_colab_link": true,
      "name": "bkCvrs.ipynb",
      "provenance": []
    },
    "kernelspec": {
      "display_name": "Python 3",
      "name": "python3"
    },
    "language_info": {
      "name": "python"
    }
  },
  "nbformat": 4,
  "nbformat_minor": 0
}
