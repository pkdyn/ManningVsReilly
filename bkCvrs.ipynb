{
  "nbformat": 4,
  "nbformat_minor": 0,
  "metadata": {
    "colab": {
      "name": "bkCvrs.ipynb",
      "provenance": [],
      "collapsed_sections": [],
      "include_colab_link": true
    },
    "kernelspec": {
      "name": "python3",
      "display_name": "Python 3"
    },
    "language_info": {
      "name": "python"
    },
    "accelerator": "GPU"
  },
  "cells": [
    {
      "cell_type": "markdown",
      "metadata": {
        "id": "view-in-github",
        "colab_type": "text"
      },
      "source": [
        "<a href=\"https://colab.research.google.com/github/pkdyn/ManningVsReilly/blob/main/bkCvrs.ipynb\" target=\"_parent\"><img src=\"https://colab.research.google.com/assets/colab-badge.svg\" alt=\"Open In Colab\"/></a>"
      ]
    },
    {
      "cell_type": "code",
      "metadata": {
        "id": "-o817iUxoIak",
        "colab": {
          "base_uri": "https://localhost:8080/"
        },
        "outputId": "03a41131-53f5-4a3e-871e-91974cd4c536"
      },
      "source": [
        "import numpy as np\n",
        "import pandas as pd\n",
        "import matplotlib.pyplot as plt\n",
        "%matplotlib inline\n",
        "\n",
        "import os\n",
        "\n",
        "import tensorflow as tf\n",
        "print (tf.__version__)\n",
        "from tensorflow import keras\n",
        "\n",
        "from tensorflow.keras.preprocessing.image import load_img\n",
        "from tensorflow.keras.applications.xception import Xception\n",
        "from tensorflow.keras.applications.xception import preprocess_input\n",
        "from tensorflow.keras.applications.xception import decode_predictions\n"
      ],
      "execution_count": 1,
      "outputs": [
        {
          "output_type": "stream",
          "name": "stdout",
          "text": [
            "2.6.0\n"
          ]
        }
      ]
    },
    {
      "cell_type": "code",
      "metadata": {
        "colab": {
          "base_uri": "https://localhost:8080/"
        },
        "id": "8B5i5udAYAer",
        "outputId": "1b5f5da0-f5a9-429a-a15a-791a5a620c5b"
      },
      "source": [
        "\n",
        "!wget --no-check-certificate \\\n",
        "https://github.com/pkdyn/ManningVsReilly/archive/refs/heads/main.zip \n",
        "!unzip -q /content/main.zip\n",
        "!rm /content/main.zip\n",
        "\n"
      ],
      "execution_count": 2,
      "outputs": [
        {
          "output_type": "stream",
          "name": "stdout",
          "text": [
            "--2021-09-02 11:42:10--  https://github.com/pkdyn/ManningVsReilly/archive/refs/heads/main.zip\n",
            "Resolving github.com (github.com)... 13.114.40.48\n",
            "Connecting to github.com (github.com)|13.114.40.48|:443... connected.\n",
            "HTTP request sent, awaiting response... 302 Found\n",
            "Location: https://codeload.github.com/pkdyn/ManningVsReilly/zip/refs/heads/main [following]\n",
            "--2021-09-02 11:42:10--  https://codeload.github.com/pkdyn/ManningVsReilly/zip/refs/heads/main\n",
            "Resolving codeload.github.com (codeload.github.com)... 52.193.111.178\n",
            "Connecting to codeload.github.com (codeload.github.com)|52.193.111.178|:443... connected.\n",
            "HTTP request sent, awaiting response... 200 OK\n",
            "Length: unspecified [application/zip]\n",
            "Saving to: ‘main.zip’\n",
            "\n",
            "main.zip                [  <=>               ]   4.51M  14.4MB/s    in 0.3s    \n",
            "\n",
            "2021-09-02 11:42:11 (14.4 MB/s) - ‘main.zip’ saved [4733659]\n",
            "\n"
          ]
        }
      ]
    },
    {
      "cell_type": "code",
      "metadata": {
        "colab": {
          "base_uri": "https://localhost:8080/"
        },
        "id": "JkeOI3lxfmPS",
        "outputId": "f161e547-9de1-43e7-f896-18129217fef5"
      },
      "source": [
        "from tensorflow.keras.applications.xception import preprocess_input\n",
        "from tensorflow.keras.preprocessing.image import ImageDataGenerator\n",
        "train_datagen = ImageDataGenerator(\n",
        "    rotation_range=30,\n",
        "    width_shift_range=30.0,\n",
        "    height_shift_range=30.0,\n",
        "    shear_range=10.0,\n",
        "    zoom_range=0.2,\n",
        "    horizontal_flip=True,\n",
        "    validation_split=0.2, \n",
        "    preprocessing_function=preprocess_input) \n",
        "\n",
        "train_ds = train_datagen.flow_from_directory(\n",
        "    \"/content/ManningVsReilly-main/cvr_ds/train\",\n",
        "    target_size=(100, 100),\n",
        "    batch_size=32,\n",
        "    shuffle=True,\n",
        "    class_mode='binary',\n",
        "    subset='training') \n",
        "\n",
        "val_ds = train_datagen.flow_from_directory(\n",
        "    \"/content/ManningVsReilly-main/cvr_ds/train\", \n",
        "    target_size=(100, 100),\n",
        "    batch_size=32,\n",
        "    shuffle=True,\n",
        "    class_mode='binary',\n",
        "    subset='validation') \n",
        "\n"
      ],
      "execution_count": 3,
      "outputs": [
        {
          "output_type": "stream",
          "name": "stdout",
          "text": [
            "Found 480 images belonging to 2 classes.\n",
            "Found 120 images belonging to 2 classes.\n"
          ]
        }
      ]
    },
    {
      "cell_type": "code",
      "metadata": {
        "id": "6L-dBwoDWxyg"
      },
      "source": [
        "def make_model(learning_rate, droprate, size):\n",
        "    base_model = Xception(\n",
        "        weights='imagenet',\n",
        "        input_shape=(100, 100, 3),\n",
        "        include_top=False\n",
        "    )\n",
        "\n",
        "    base_model.trainable = False\n",
        "\n",
        "    inputs = keras.Input(shape=(100, 100, 3))\n",
        "\n",
        "    base = base_model(inputs, training=False)\n",
        "    vector = keras.layers.GlobalAveragePooling2D()(base)\n",
        "    inner = keras.layers.Dense(size, activation='relu')(vector)\n",
        "    drop = keras.layers.Dropout(droprate)(inner)\n",
        "    outputs = keras.layers.Dense(1, activation='sigmoid')(drop)\n",
        "    model = keras.Model(inputs, outputs)\n",
        "    \n",
        "    model.compile(\n",
        "        optimizer=keras.optimizers.Adam(learning_rate),\n",
        "        loss=keras.losses.BinaryCrossentropy(),\n",
        "        metrics=[\"accuracy\"],\n",
        "    )\n",
        "    \n",
        "    return model"
      ],
      "execution_count": 4,
      "outputs": []
    },
    {
      "cell_type": "code",
      "metadata": {
        "colab": {
          "base_uri": "https://localhost:8080/",
          "height": 1000
        },
        "id": "2Dim70Z_X1LR",
        "outputId": "ffcc22af-0a97-4240-ccd6-cfb133770125"
      },
      "source": [
        "model = make_model(learning_rate=0.001, droprate=0.0, size=10)\n",
        "history_0_001 = model.fit(train_ds, epochs=15, validation_data=val_ds)\n",
        "model = make_model(learning_rate=0.0001, droprate=0.0, size=10)\n",
        "history_0_0001 = model.fit(train_ds, epochs=15, validation_data=val_ds)\n",
        "\n",
        "\n",
        "epochs = np.arange(15)\n",
        "val_0_001 = history_0_001.history['val_accuracy']\n",
        "val_0_0001 = history_0_0001.history['val_accuracy']\n",
        "\n",
        "\n",
        "\n",
        "plt.figure(figsize=(6, 4))\n",
        "\n",
        "plt.plot(epochs, val_0_001, color='blue', linestyle='solid', label='0.001')\n",
        "plt.plot(epochs, val_0_0001, color='green', linestyle='solid', label='0.0001')\n",
        "plt.title('Xception v1, different learning rates')\n",
        "plt.xlabel('Epoch')\n",
        "plt.ylabel('Accuracy')\n",
        "\n",
        "plt.xticks(epochs)\n",
        "plt.legend()\n",
        "plt.show()"
      ],
      "execution_count": 5,
      "outputs": [
        {
          "output_type": "stream",
          "name": "stdout",
          "text": [
            "Downloading data from https://storage.googleapis.com/tensorflow/keras-applications/xception/xception_weights_tf_dim_ordering_tf_kernels_notop.h5\n",
            "83689472/83683744 [==============================] - 3s 0us/step\n",
            "83697664/83683744 [==============================] - 3s 0us/step\n",
            "Epoch 1/15\n",
            "15/15 [==============================] - 35s 273ms/step - loss: 0.4901 - accuracy: 0.7854 - val_loss: 0.3206 - val_accuracy: 0.9417\n",
            "Epoch 2/15\n",
            "15/15 [==============================] - 3s 174ms/step - loss: 0.1972 - accuracy: 0.9771 - val_loss: 0.1510 - val_accuracy: 0.9500\n",
            "Epoch 3/15\n",
            "15/15 [==============================] - 3s 179ms/step - loss: 0.0983 - accuracy: 0.9708 - val_loss: 0.1173 - val_accuracy: 0.9750\n",
            "Epoch 4/15\n",
            "15/15 [==============================] - 3s 175ms/step - loss: 0.0864 - accuracy: 0.9812 - val_loss: 0.1073 - val_accuracy: 0.9750\n",
            "Epoch 5/15\n",
            "15/15 [==============================] - 3s 173ms/step - loss: 0.0669 - accuracy: 0.9917 - val_loss: 0.0629 - val_accuracy: 0.9833\n",
            "Epoch 6/15\n",
            "15/15 [==============================] - 3s 175ms/step - loss: 0.0798 - accuracy: 0.9812 - val_loss: 0.0795 - val_accuracy: 0.9667\n",
            "Epoch 7/15\n",
            "15/15 [==============================] - 3s 172ms/step - loss: 0.0412 - accuracy: 0.9917 - val_loss: 0.0439 - val_accuracy: 0.9833\n",
            "Epoch 8/15\n",
            "15/15 [==============================] - 3s 171ms/step - loss: 0.0357 - accuracy: 0.9917 - val_loss: 0.0690 - val_accuracy: 0.9750\n",
            "Epoch 9/15\n",
            "15/15 [==============================] - 3s 168ms/step - loss: 0.0323 - accuracy: 0.9979 - val_loss: 0.0800 - val_accuracy: 0.9750\n",
            "Epoch 10/15\n",
            "15/15 [==============================] - 3s 171ms/step - loss: 0.0414 - accuracy: 0.9896 - val_loss: 0.0676 - val_accuracy: 0.9833\n",
            "Epoch 11/15\n",
            "15/15 [==============================] - 3s 173ms/step - loss: 0.0308 - accuracy: 0.9937 - val_loss: 0.0550 - val_accuracy: 0.9750\n",
            "Epoch 12/15\n",
            "15/15 [==============================] - 3s 171ms/step - loss: 0.0319 - accuracy: 0.9875 - val_loss: 0.0366 - val_accuracy: 0.9917\n",
            "Epoch 13/15\n",
            "15/15 [==============================] - 3s 171ms/step - loss: 0.0380 - accuracy: 0.9937 - val_loss: 0.0749 - val_accuracy: 0.9667\n",
            "Epoch 14/15\n",
            "15/15 [==============================] - 3s 170ms/step - loss: 0.0280 - accuracy: 0.9896 - val_loss: 0.0179 - val_accuracy: 0.9917\n",
            "Epoch 15/15\n",
            "15/15 [==============================] - 3s 170ms/step - loss: 0.0493 - accuracy: 0.9896 - val_loss: 0.0474 - val_accuracy: 0.9833\n",
            "Epoch 1/15\n",
            "15/15 [==============================] - 7s 237ms/step - loss: 0.6602 - accuracy: 0.5271 - val_loss: 0.6290 - val_accuracy: 0.5500\n",
            "Epoch 2/15\n",
            "15/15 [==============================] - 3s 169ms/step - loss: 0.6004 - accuracy: 0.6313 - val_loss: 0.5790 - val_accuracy: 0.7083\n",
            "Epoch 3/15\n",
            "15/15 [==============================] - 3s 169ms/step - loss: 0.5465 - accuracy: 0.7792 - val_loss: 0.5047 - val_accuracy: 0.8083\n",
            "Epoch 4/15\n",
            "15/15 [==============================] - 3s 168ms/step - loss: 0.4944 - accuracy: 0.8188 - val_loss: 0.4710 - val_accuracy: 0.8917\n",
            "Epoch 5/15\n",
            "15/15 [==============================] - 3s 169ms/step - loss: 0.4465 - accuracy: 0.8854 - val_loss: 0.4177 - val_accuracy: 0.9167\n",
            "Epoch 6/15\n",
            "15/15 [==============================] - 3s 168ms/step - loss: 0.3864 - accuracy: 0.9229 - val_loss: 0.4032 - val_accuracy: 0.8833\n",
            "Epoch 7/15\n",
            "15/15 [==============================] - 3s 171ms/step - loss: 0.3600 - accuracy: 0.9167 - val_loss: 0.3322 - val_accuracy: 0.9417\n",
            "Epoch 8/15\n",
            "15/15 [==============================] - 3s 169ms/step - loss: 0.3325 - accuracy: 0.9604 - val_loss: 0.3327 - val_accuracy: 0.9500\n",
            "Epoch 9/15\n",
            "15/15 [==============================] - 3s 169ms/step - loss: 0.3017 - accuracy: 0.9479 - val_loss: 0.2982 - val_accuracy: 0.9333\n",
            "Epoch 10/15\n",
            "15/15 [==============================] - 3s 170ms/step - loss: 0.2824 - accuracy: 0.9563 - val_loss: 0.2843 - val_accuracy: 0.9750\n",
            "Epoch 11/15\n",
            "15/15 [==============================] - 3s 169ms/step - loss: 0.2636 - accuracy: 0.9542 - val_loss: 0.2687 - val_accuracy: 0.9500\n",
            "Epoch 12/15\n",
            "15/15 [==============================] - 3s 169ms/step - loss: 0.2485 - accuracy: 0.9625 - val_loss: 0.2403 - val_accuracy: 0.9750\n",
            "Epoch 13/15\n",
            "15/15 [==============================] - 3s 169ms/step - loss: 0.2162 - accuracy: 0.9854 - val_loss: 0.2291 - val_accuracy: 0.9667\n",
            "Epoch 14/15\n",
            "15/15 [==============================] - 3s 167ms/step - loss: 0.2030 - accuracy: 0.9646 - val_loss: 0.2176 - val_accuracy: 0.9333\n",
            "Epoch 15/15\n",
            "15/15 [==============================] - 3s 168ms/step - loss: 0.1850 - accuracy: 0.9812 - val_loss: 0.1987 - val_accuracy: 0.9583\n"
          ]
        },
        {
          "output_type": "display_data",
          "data": {
            "image/png": "[encoded data removed]",
            "text/plain": [
              "<Figure size 432x288 with 1 Axes>"
            ]
          },
          "metadata": {
            "needs_background": "light"
          }
        }
      ]
    },
    {
      "cell_type": "code",
      "metadata": {
        "colab": {
          "base_uri": "https://localhost:8080/",
          "height": 1000
        },
        "id": "_y3uQwRBsMe5",
        "outputId": "29ca712a-adcf-478f-c615-ec69b056898f"
      },
      "source": [
        "\n",
        "model = make_model(learning_rate=0.001, droprate=0.6, size=10)\n",
        "history_10_6_001 = model.fit(train_ds, epochs=15, validation_data=val_ds)\n",
        "model = make_model(learning_rate=0.001, droprate=0.6, size=25)\n",
        "history_25_6_001 = model.fit(train_ds, epochs=15, validation_data=val_ds)\n",
        "\n",
        "\n",
        "model = make_model(learning_rate=0.001, droprate=0.7, size=10)\n",
        "history_10_7_001 = model.fit(train_ds, epochs=15, validation_data=val_ds)\n",
        "model = make_model(learning_rate=0.001, droprate=0.7, size=25)\n",
        "history_25_7_001 = model.fit(train_ds, epochs=15, validation_data=val_ds)\n",
        "\n",
        "\n",
        "epochs = np.arange(15)\n",
        "val_10_6_001 = history_10_6_001.history['val_accuracy']\n",
        "val_25_6_001 = history_25_6_001.history['val_accuracy']\n",
        "\n",
        "val_10_7_001 = history_10_7_001.history['val_accuracy']\n",
        "val_25_7_001 = history_25_7_001.history['val_accuracy']\n",
        "\n",
        "plt.figure(figsize=(6, 4))\n",
        "plt.plot(epochs, val_10_6_001, color='green', linestyle='dotted', label='0.001, 0.6, 10')\n",
        "plt.plot(epochs, val_25_6_001, color='green', linestyle='solid', label='0.001, 0.6, 25')\n",
        "\n",
        "plt.plot(epochs, val_10_7_001, color='blue', linestyle='dotted', label='0.001, 0.7, 10')\n",
        "plt.plot(epochs, val_25_7_001, color='blue', linestyle='solid', label='0.001, 0.7, 25')\n",
        "\n",
        "plt.title('Xception v2, different inner layer sizes ')\n",
        "plt.xlabel('Epoch')\n",
        "plt.ylabel('Accuracy')\n",
        "plt.xticks(epochs)\n",
        "plt.legend()\n",
        "plt.show()"
      ],
      "execution_count": 6,
      "outputs": [
        {
          "metadata": {
            "tags": null
          },
          "name": "stdout",
          "output_type": "stream",
          "text": [
            "Epoch 1/15\n",
            "15/15 [==============================] - 6s 244ms/step - loss: 0.5327 - accuracy: 0.7333 - val_loss: 0.3043 - val_accuracy: 0.9083\n",
            "Epoch 2/15\n",
            "15/15 [==============================] - 3s 175ms/step - loss: 0.3566 - accuracy: 0.8562 - val_loss: 0.2233 - val_accuracy: 0.9417\n",
            "Epoch 3/15\n",
            "15/15 [==============================] - 3s 175ms/step - loss: 0.3038 - accuracy: 0.8875 - val_loss: 0.1899 - val_accuracy: 0.9417\n",
            "Epoch 4/15\n",
            "15/15 [==============================] - 3s 182ms/step - loss: 0.2733 - accuracy: 0.8938 - val_loss: 0.1172 - val_accuracy: 0.9667\n",
            "Epoch 5/15\n",
            "15/15 [==============================] - 3s 177ms/step - loss: 0.2642 - accuracy: 0.9125 - val_loss: 0.1457 - val_accuracy: 0.9500\n",
            "Epoch 6/15\n",
            "15/15 [==============================] - 3s 177ms/step - loss: 0.2239 - accuracy: 0.9417 - val_loss: 0.1303 - val_accuracy: 0.9667\n",
            "Epoch 7/15\n",
            "15/15 [==============================] - 3s 176ms/step - loss: 0.2259 - accuracy: 0.9250 - val_loss: 0.1393 - val_accuracy: 0.9500\n",
            "Epoch 8/15\n",
            "15/15 [==============================] - 3s 175ms/step - loss: 0.1842 - accuracy: 0.9396 - val_loss: 0.1160 - val_accuracy: 0.9917\n",
            "Epoch 9/15\n",
            "15/15 [==============================] - 3s 175ms/step - loss: 0.2121 - accuracy: 0.9292 - val_loss: 0.1257 - val_accuracy: 0.9500\n",
            "Epoch 10/15\n",
            "15/15 [==============================] - 3s 174ms/step - loss: 0.1672 - accuracy: 0.9521 - val_loss: 0.0888 - val_accuracy: 0.9750\n",
            "Epoch 11/15\n",
            "15/15 [==============================] - 3s 173ms/step - loss: 0.1859 - accuracy: 0.9500 - val_loss: 0.0878 - val_accuracy: 0.9750\n",
            "Epoch 12/15\n",
            "15/15 [==============================] - 3s 174ms/step - loss: 0.1507 - accuracy: 0.9521 - val_loss: 0.0614 - val_accuracy: 0.9917\n",
            "Epoch 13/15\n",
            "15/15 [==============================] - 3s 174ms/step - loss: 0.1972 - accuracy: 0.9333 - val_loss: 0.0760 - val_accuracy: 0.9750\n",
            "Epoch 14/15\n",
            "15/15 [==============================] - 3s 171ms/step - loss: 0.1482 - accuracy: 0.9375 - val_loss: 0.0542 - val_accuracy: 0.9833\n",
            "Epoch 15/15\n",
            "15/15 [==============================] - 3s 171ms/step - loss: 0.1473 - accuracy: 0.9542 - val_loss: 0.0569 - val_accuracy: 0.9917\n",
            "Epoch 1/15\n",
            "15/15 [==============================] - 6s 240ms/step - loss: 0.4995 - accuracy: 0.7688 - val_loss: 0.2797 - val_accuracy: 0.9250\n",
            "Epoch 2/15\n",
            "15/15 [==============================] - 3s 171ms/step - loss: 0.2646 - accuracy: 0.9125 - val_loss: 0.1769 - val_accuracy: 0.9417\n",
            "Epoch 3/15\n",
            "15/15 [==============================] - 3s 172ms/step - loss: 0.1952 - accuracy: 0.9333 - val_loss: 0.0686 - val_accuracy: 0.9917\n",
            "Epoch 4/15\n",
            "15/15 [==============================] - 3s 169ms/step - loss: 0.1551 - accuracy: 0.9646 - val_loss: 0.1054 - val_accuracy: 0.9667\n",
            "Epoch 5/15\n",
            "15/15 [==============================] - 3s 169ms/step - loss: 0.1418 - accuracy: 0.9604 - val_loss: 0.0630 - val_accuracy: 0.9833\n",
            "Epoch 6/15\n",
            "15/15 [==============================] - 3s 172ms/step - loss: 0.1133 - accuracy: 0.9563 - val_loss: 0.0807 - val_accuracy: 0.9750\n",
            "Epoch 7/15\n",
            "15/15 [==============================] - 3s 172ms/step - loss: 0.1205 - accuracy: 0.9521 - val_loss: 0.0835 - val_accuracy: 0.9750\n",
            "Epoch 8/15\n",
            "15/15 [==============================] - 3s 172ms/step - loss: 0.1108 - accuracy: 0.9729 - val_loss: 0.0657 - val_accuracy: 0.9917\n",
            "Epoch 9/15\n",
            "15/15 [==============================] - 3s 171ms/step - loss: 0.1027 - accuracy: 0.9667 - val_loss: 0.0359 - val_accuracy: 0.9917\n",
            "Epoch 10/15\n",
            "15/15 [==============================] - 3s 169ms/step - loss: 0.0738 - accuracy: 0.9833 - val_loss: 0.0352 - val_accuracy: 0.9917\n",
            "Epoch 11/15\n",
            "15/15 [==============================] - 3s 171ms/step - loss: 0.0714 - accuracy: 0.9771 - val_loss: 0.0744 - val_accuracy: 0.9833\n",
            "Epoch 12/15\n",
            "15/15 [==============================] - 3s 172ms/step - loss: 0.1088 - accuracy: 0.9646 - val_loss: 0.0601 - val_accuracy: 0.9667\n",
            "Epoch 13/15\n",
            "15/15 [==============================] - 3s 174ms/step - loss: 0.0960 - accuracy: 0.9792 - val_loss: 0.0417 - val_accuracy: 0.9833\n",
            "Epoch 14/15\n",
            "15/15 [==============================] - 3s 172ms/step - loss: 0.0643 - accuracy: 0.9792 - val_loss: 0.0452 - val_accuracy: 0.9833\n",
            "Epoch 15/15\n",
            "15/15 [==============================] - 3s 179ms/step - loss: 0.0664 - accuracy: 0.9833 - val_loss: 0.0412 - val_accuracy: 0.9917\n",
            "Epoch 1/15\n",
            "15/15 [==============================] - 7s 237ms/step - loss: 0.7176 - accuracy: 0.5729 - val_loss: 0.5187 - val_accuracy: 0.8750\n",
            "Epoch 2/15\n",
            "15/15 [==============================] - 3s 170ms/step - loss: 0.5565 - accuracy: 0.6646 - val_loss: 0.3719 - val_accuracy: 0.9500\n",
            "Epoch 3/15\n",
            "15/15 [==============================] - 3s 170ms/step - loss: 0.4447 - accuracy: 0.7500 - val_loss: 0.3031 - val_accuracy: 0.9333\n",
            "Epoch 4/15\n",
            "15/15 [==============================] - 3s 172ms/step - loss: 0.4007 - accuracy: 0.7854 - val_loss: 0.2247 - val_accuracy: 0.9500\n",
            "Epoch 5/15\n",
            "15/15 [==============================] - 3s 170ms/step - loss: 0.3916 - accuracy: 0.7729 - val_loss: 0.2248 - val_accuracy: 0.9500\n",
            "Epoch 6/15\n",
            "15/15 [==============================] - 3s 171ms/step - loss: 0.3855 - accuracy: 0.7875 - val_loss: 0.1900 - val_accuracy: 0.9833\n",
            "Epoch 7/15\n",
            "15/15 [==============================] - 3s 171ms/step - loss: 0.3768 - accuracy: 0.8125 - val_loss: 0.1783 - val_accuracy: 0.9833\n",
            "Epoch 8/15\n",
            "15/15 [==============================] - 3s 174ms/step - loss: 0.3794 - accuracy: 0.7958 - val_loss: 0.1400 - val_accuracy: 0.9750\n",
            "Epoch 9/15\n",
            "15/15 [==============================] - 3s 173ms/step - loss: 0.3666 - accuracy: 0.7896 - val_loss: 0.1728 - val_accuracy: 0.9583\n",
            "Epoch 10/15\n",
            "15/15 [==============================] - 3s 173ms/step - loss: 0.3211 - accuracy: 0.8292 - val_loss: 0.1676 - val_accuracy: 0.9500\n",
            "Epoch 11/15\n",
            "15/15 [==============================] - 3s 172ms/step - loss: 0.3358 - accuracy: 0.7937 - val_loss: 0.1108 - val_accuracy: 0.9750\n",
            "Epoch 12/15\n",
            "15/15 [==============================] - 3s 172ms/step - loss: 0.3135 - accuracy: 0.8167 - val_loss: 0.1350 - val_accuracy: 0.9750\n",
            "Epoch 13/15\n",
            "15/15 [==============================] - 3s 173ms/step - loss: 0.3183 - accuracy: 0.8021 - val_loss: 0.1185 - val_accuracy: 0.9750\n",
            "Epoch 14/15\n",
            "15/15 [==============================] - 3s 173ms/step - loss: 0.3150 - accuracy: 0.8375 - val_loss: 0.1339 - val_accuracy: 0.9833\n",
            "Epoch 15/15\n",
            "15/15 [==============================] - 3s 172ms/step - loss: 0.2999 - accuracy: 0.8333 - val_loss: 0.1215 - val_accuracy: 0.9833\n",
            "Epoch 1/15\n",
            "15/15 [==============================] - 7s 247ms/step - loss: 0.6115 - accuracy: 0.6646 - val_loss: 0.3378 - val_accuracy: 0.9250\n",
            "Epoch 2/15\n",
            "15/15 [==============================] - 3s 174ms/step - loss: 0.3795 - accuracy: 0.8521 - val_loss: 0.2399 - val_accuracy: 0.9500\n",
            "Epoch 3/15\n",
            "15/15 [==============================] - 3s 173ms/step - loss: 0.2701 - accuracy: 0.8896 - val_loss: 0.1836 - val_accuracy: 0.9500\n",
            "Epoch 4/15\n",
            "15/15 [==============================] - 3s 172ms/step - loss: 0.2219 - accuracy: 0.9042 - val_loss: 0.1516 - val_accuracy: 0.9500\n",
            "Epoch 5/15\n",
            "15/15 [==============================] - 3s 170ms/step - loss: 0.2416 - accuracy: 0.8938 - val_loss: 0.1268 - val_accuracy: 0.9667\n",
            "Epoch 6/15\n",
            "15/15 [==============================] - 3s 173ms/step - loss: 0.2246 - accuracy: 0.9146 - val_loss: 0.0735 - val_accuracy: 0.9917\n",
            "Epoch 7/15\n",
            "15/15 [==============================] - 3s 170ms/step - loss: 0.1562 - accuracy: 0.9458 - val_loss: 0.0721 - val_accuracy: 0.9833\n",
            "Epoch 8/15\n",
            "15/15 [==============================] - 3s 171ms/step - loss: 0.1211 - accuracy: 0.9542 - val_loss: 0.0659 - val_accuracy: 0.9917\n",
            "Epoch 9/15\n",
            "15/15 [==============================] - 3s 169ms/step - loss: 0.1188 - accuracy: 0.9646 - val_loss: 0.0587 - val_accuracy: 0.9833\n",
            "Epoch 10/15\n",
            "15/15 [==============================] - 3s 172ms/step - loss: 0.1419 - accuracy: 0.9563 - val_loss: 0.0680 - val_accuracy: 0.9833\n",
            "Epoch 11/15\n",
            "15/15 [==============================] - 3s 170ms/step - loss: 0.1301 - accuracy: 0.9500 - val_loss: 0.1234 - val_accuracy: 0.9583\n",
            "Epoch 12/15\n",
            "15/15 [==============================] - 3s 171ms/step - loss: 0.1176 - accuracy: 0.9583 - val_loss: 0.0207 - val_accuracy: 1.0000\n",
            "Epoch 13/15\n",
            "15/15 [==============================] - 3s 172ms/step - loss: 0.0958 - accuracy: 0.9563 - val_loss: 0.0739 - val_accuracy: 0.9750\n",
            "Epoch 14/15\n",
            "15/15 [==============================] - 3s 172ms/step - loss: 0.1333 - accuracy: 0.9479 - val_loss: 0.0925 - val_accuracy: 0.9750\n",
            "Epoch 15/15\n",
            "15/15 [==============================] - 3s 170ms/step - loss: 0.1156 - accuracy: 0.9583 - val_loss: 0.0458 - val_accuracy: 0.9833\n"
          ]
        },
        {
          "data": {
            "image/png": "[encoded data removed]",
            "text/plain": [
              "<Figure size 432x288 with 1 Axes>"
            ]
          },
          "metadata": {},
          "output_type": "display_data"
        }
      ]
    },
    {
      "cell_type": "code",
      "metadata": {
        "colab": {
          "base_uri": "https://localhost:8080/"
        },
        "id": "UTltqceU3AyF",
        "outputId": "5e3572c4-9be2-4d38-bf08-afe839641c74"
      },
      "source": [
        "checkpoint = keras.callbacks.ModelCheckpoint(\n",
        "\"xception_v1_{epoch:02d}_{val_accuracy:.3f}.h5\", #A\n",
        "save_best_only=True, #B\n",
        "monitor=\"val_accuracy\" #C\n",
        ")\n",
        "\n",
        "model = make_model(learning_rate=0.001, droprate=0.6, size=25)\n",
        "\n",
        "model.fit(train_ds, epochs=30, validation_data=val_ds, callbacks=[checkpoint])\n"
      ],
      "execution_count": 7,
      "outputs": [
        {
          "output_type": "stream",
          "name": "stdout",
          "text": [
            "Epoch 1/30\n",
            "15/15 [==============================] - 7s 244ms/step - loss: 0.4916 - accuracy: 0.7542 - val_loss: 0.2973 - val_accuracy: 0.8833\n"
          ]
        },
        {
          "output_type": "stream",
          "name": "stderr",
          "text": [
            "/usr/local/lib/python3.7/dist-packages/keras/utils/generic_utils.py:497: CustomMaskWarning: Custom mask layers require a config and must override get_config. When loading, the custom mask layer must be passed to the custom_objects argument.\n",
            "  category=CustomMaskWarning)\n"
          ]
        },
        {
          "output_type": "stream",
          "name": "stdout",
          "text": [
            "Epoch 2/30\n",
            "15/15 [==============================] - 3s 179ms/step - loss: 0.2527 - accuracy: 0.9125 - val_loss: 0.1403 - val_accuracy: 0.9667\n",
            "Epoch 3/30\n",
            "15/15 [==============================] - 3s 178ms/step - loss: 0.2014 - accuracy: 0.9333 - val_loss: 0.0811 - val_accuracy: 0.9833\n",
            "Epoch 4/30\n",
            "15/15 [==============================] - 3s 177ms/step - loss: 0.1301 - accuracy: 0.9708 - val_loss: 0.0942 - val_accuracy: 0.9750\n",
            "Epoch 5/30\n",
            "15/15 [==============================] - 3s 177ms/step - loss: 0.1360 - accuracy: 0.9521 - val_loss: 0.0773 - val_accuracy: 0.9833\n",
            "Epoch 6/30\n",
            "15/15 [==============================] - 3s 178ms/step - loss: 0.0973 - accuracy: 0.9708 - val_loss: 0.0856 - val_accuracy: 0.9833\n",
            "Epoch 7/30\n",
            "15/15 [==============================] - 3s 173ms/step - loss: 0.0962 - accuracy: 0.9729 - val_loss: 0.0527 - val_accuracy: 0.9917\n",
            "Epoch 8/30\n",
            "15/15 [==============================] - 3s 174ms/step - loss: 0.0739 - accuracy: 0.9750 - val_loss: 0.0291 - val_accuracy: 1.0000\n",
            "Epoch 9/30\n",
            "15/15 [==============================] - 3s 175ms/step - loss: 0.1010 - accuracy: 0.9771 - val_loss: 0.0627 - val_accuracy: 0.9833\n",
            "Epoch 10/30\n",
            "15/15 [==============================] - 3s 175ms/step - loss: 0.0863 - accuracy: 0.9729 - val_loss: 0.0550 - val_accuracy: 0.9833\n",
            "Epoch 11/30\n",
            "15/15 [==============================] - 3s 173ms/step - loss: 0.0977 - accuracy: 0.9771 - val_loss: 0.0822 - val_accuracy: 0.9833\n",
            "Epoch 12/30\n",
            "15/15 [==============================] - 3s 174ms/step - loss: 0.1190 - accuracy: 0.9729 - val_loss: 0.0312 - val_accuracy: 1.0000\n",
            "Epoch 13/30\n",
            "15/15 [==============================] - 3s 172ms/step - loss: 0.0720 - accuracy: 0.9771 - val_loss: 0.0395 - val_accuracy: 0.9750\n",
            "Epoch 14/30\n",
            "15/15 [==============================] - 3s 173ms/step - loss: 0.0653 - accuracy: 0.9750 - val_loss: 0.0461 - val_accuracy: 0.9667\n",
            "Epoch 15/30\n",
            "15/15 [==============================] - 3s 174ms/step - loss: 0.0800 - accuracy: 0.9667 - val_loss: 0.0518 - val_accuracy: 0.9917\n",
            "Epoch 16/30\n",
            "15/15 [==============================] - 3s 173ms/step - loss: 0.0545 - accuracy: 0.9854 - val_loss: 0.0975 - val_accuracy: 0.9750\n",
            "Epoch 17/30\n",
            "15/15 [==============================] - 3s 174ms/step - loss: 0.0576 - accuracy: 0.9917 - val_loss: 0.0600 - val_accuracy: 0.9750\n",
            "Epoch 18/30\n",
            "15/15 [==============================] - 3s 173ms/step - loss: 0.0500 - accuracy: 0.9854 - val_loss: 0.0680 - val_accuracy: 0.9750\n",
            "Epoch 19/30\n",
            "15/15 [==============================] - 3s 172ms/step - loss: 0.0479 - accuracy: 0.9854 - val_loss: 0.0323 - val_accuracy: 0.9917\n",
            "Epoch 20/30\n",
            "15/15 [==============================] - 3s 173ms/step - loss: 0.0586 - accuracy: 0.9812 - val_loss: 0.0468 - val_accuracy: 0.9917\n",
            "Epoch 21/30\n",
            "15/15 [==============================] - 3s 172ms/step - loss: 0.0783 - accuracy: 0.9875 - val_loss: 0.0257 - val_accuracy: 0.9917\n",
            "Epoch 22/30\n",
            "15/15 [==============================] - 3s 172ms/step - loss: 0.0723 - accuracy: 0.9833 - val_loss: 0.0410 - val_accuracy: 0.9917\n",
            "Epoch 23/30\n",
            "15/15 [==============================] - 3s 172ms/step - loss: 0.0614 - accuracy: 0.9854 - val_loss: 0.0135 - val_accuracy: 1.0000\n",
            "Epoch 24/30\n",
            "15/15 [==============================] - 3s 171ms/step - loss: 0.0553 - accuracy: 0.9833 - val_loss: 0.0136 - val_accuracy: 1.0000\n",
            "Epoch 25/30\n",
            "15/15 [==============================] - 3s 167ms/step - loss: 0.0614 - accuracy: 0.9792 - val_loss: 0.0531 - val_accuracy: 0.9667\n",
            "Epoch 26/30\n",
            "15/15 [==============================] - 3s 168ms/step - loss: 0.0521 - accuracy: 0.9937 - val_loss: 0.0588 - val_accuracy: 0.9750\n",
            "Epoch 27/30\n",
            "15/15 [==============================] - 3s 170ms/step - loss: 0.0631 - accuracy: 0.9750 - val_loss: 0.0129 - val_accuracy: 1.0000\n",
            "Epoch 28/30\n",
            "15/15 [==============================] - 3s 168ms/step - loss: 0.0268 - accuracy: 0.9917 - val_loss: 0.0149 - val_accuracy: 1.0000\n",
            "Epoch 29/30\n",
            "15/15 [==============================] - 3s 170ms/step - loss: 0.0413 - accuracy: 0.9854 - val_loss: 0.0926 - val_accuracy: 0.9667\n",
            "Epoch 30/30\n",
            "15/15 [==============================] - 3s 167ms/step - loss: 0.0265 - accuracy: 0.9979 - val_loss: 0.0427 - val_accuracy: 0.9833\n"
          ]
        },
        {
          "output_type": "execute_result",
          "data": {
            "text/plain": [
              "<keras.callbacks.History at 0x7f94364430d0>"
            ]
          },
          "metadata": {},
          "execution_count": 7
        }
      ]
    },
    {
      "cell_type": "code",
      "metadata": {
        "colab": {
          "resources": {
            "http://localhost:8080/nbextensions/google.colab/files.js": {
              "data": "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",
              "ok": true,
              "headers": [
                [
                  "content-type",
                  "application/javascript"
                ]
              ],
              "status": 200,
              "status_text": ""
            }
          },
          "base_uri": "https://localhost:8080/",
          "height": 1000
        },
        "id": "TpIdRisVEKUg",
        "outputId": "23662eb2-996b-4c91-ae3b-daa66f2e1f4f"
      },
      "source": [
        "from keras.preprocessing import image\n",
        "from google.colab import files\n",
        "uploaded = files.upload()\n",
        "for fn in uploaded.keys():\n",
        "\n",
        "  path= '/content/' + fn\n",
        "  img = image.load_img(path, target_size=(100, 100))\n",
        "  x = np.array(img)\n",
        "  X = np.array([x])\n",
        "  X = preprocess_input(X)\n",
        "  pred = model.predict(X)\n",
        "  print(pred)\n",
        "  print(pred[0])\n",
        "  if pred[0]>0.5:\n",
        "    print(fn + \" is an O'Reilly book\")\n",
        "  else:\n",
        "    print(fn + \" is a Manning book\")"
      ],
      "execution_count": 8,
      "outputs": [
        {
          "output_type": "display_data",
          "data": {
            "text/html": [
              "\n",
              "     <input type=\"file\" id=\"files-ebbaf593-c669-4616-8ba7-9037c5dc2ece\" name=\"files[]\" multiple disabled\n",
              "        style=\"border:none\" />\n",
              "     <output id=\"result-ebbaf593-c669-4616-8ba7-9037c5dc2ece\">\n",
              "      Upload widget is only available when the cell has been executed in the\n",
              "      current browser session. Please rerun this cell to enable.\n",
              "      </output>\n",
              "      <script src=\"/nbextensions/google.colab/files.js\"></script> "
            ],
            "text/plain": [
              "<IPython.core.display.HTML object>"
            ]
          },
          "metadata": {}
        },
        {
          "output_type": "stream",
          "name": "stdout",
          "text": [
            "Saving 0e23cee3e14fbc65fd455a1992f6aa5d.jpg to 0e23cee3e14fbc65fd455a1992f6aa5d.jpg\n",
            "Saving 1e651dc6f9f054acc6fba6d217fb78a1.jpg to 1e651dc6f9f054acc6fba6d217fb78a1.jpg\n",
            "Saving 3d313cc165455123cb9c7d71c508481c.jpg to 3d313cc165455123cb9c7d71c508481c.jpg\n",
            "Saving 3e0319aad43f2d3b44813e43e43ad4ce.jpg to 3e0319aad43f2d3b44813e43e43ad4ce.jpg\n",
            "Saving 7b87e4c71c174cc2ba73730cd1091026.jpg to 7b87e4c71c174cc2ba73730cd1091026.jpg\n",
            "Saving 7bfefd8d49a674fe186388bdb5927432.jpg to 7bfefd8d49a674fe186388bdb5927432.jpg\n",
            "Saving 7c3455f77c8ff86110e07859215b6b97.jpg to 7c3455f77c8ff86110e07859215b6b97.jpg\n",
            "Saving 44b617061614853f0a492756e0a72df5.jpg to 44b617061614853f0a492756e0a72df5.jpg\n",
            "Saving 45b16e5f9e6d7af59c62bbe82e2ceef8.jpg to 45b16e5f9e6d7af59c62bbe82e2ceef8.jpg\n",
            "Saving 61c39504fbe9c641dd3c4f5ddb25d1b6.jpg to 61c39504fbe9c641dd3c4f5ddb25d1b6.jpg\n",
            "Saving 67bf0162f8fffe603ab2171e15878aec.jpg to 67bf0162f8fffe603ab2171e15878aec.jpg\n",
            "Saving 596c1d3c55b73ed374a7fba8d856589e.jpg to 596c1d3c55b73ed374a7fba8d856589e.jpg\n",
            "Saving 1491af1f0e5cd74158badf3ae05db33f.jpg to 1491af1f0e5cd74158badf3ae05db33f.jpg\n",
            "Saving 97298d078976333d5942e373b495f90c.jpg to 97298d078976333d5942e373b495f90c.jpg\n",
            "Saving 472392b1da72c54c42aec8e3aaf00d49.png to 472392b1da72c54c42aec8e3aaf00d49.png\n",
            "Saving 19380782e637f2e76e8eb478380b5cad.png to 19380782e637f2e76e8eb478380b5cad.png\n",
            "Saving aeb317ed514af833de85a70b49e98669.png to aeb317ed514af833de85a70b49e98669.png\n",
            "Saving c9dc6eb7abc701c80e1a001966523221.png to c9dc6eb7abc701c80e1a001966523221.png\n",
            "Saving c45a9a0aed6ef9fa7365394cecd5efa9.jpg to c45a9a0aed6ef9fa7365394cecd5efa9.jpg\n",
            "Saving d3e78742f82478ac3d46a4a4bb32ccfd.png to d3e78742f82478ac3d46a4a4bb32ccfd.png\n",
            "Saving d7bafb2748af0e6afffd0a7ec86ea28d.jpg to d7bafb2748af0e6afffd0a7ec86ea28d.jpg\n",
            "Saving dcb33f06f6146235aeb6f455bde5f2b4.jpg to dcb33f06f6146235aeb6f455bde5f2b4.jpg\n",
            "Saving e62df8408d0da9a2824cef9593167645.png to e62df8408d0da9a2824cef9593167645.png\n",
            "Saving eda7c92e8e0efb964f2dd0b02fd1b553.jpg to eda7c92e8e0efb964f2dd0b02fd1b553.jpg\n",
            "[[0.000101]]\n",
            "[0.000101]\n",
            "0e23cee3e14fbc65fd455a1992f6aa5d.jpg is a Manning book\n",
            "[[0.00301468]]\n",
            "[0.00301468]\n",
            "1e651dc6f9f054acc6fba6d217fb78a1.jpg is a Manning book\n",
            "[[0.00407679]]\n",
            "[0.00407679]\n",
            "3d313cc165455123cb9c7d71c508481c.jpg is a Manning book\n",
            "[[0.04668299]]\n",
            "[0.04668299]\n",
            "3e0319aad43f2d3b44813e43e43ad4ce.jpg is a Manning book\n",
            "[[0.10107693]]\n",
            "[0.10107693]\n",
            "7b87e4c71c174cc2ba73730cd1091026.jpg is a Manning book\n",
            "[[0.00145476]]\n",
            "[0.00145476]\n",
            "7bfefd8d49a674fe186388bdb5927432.jpg is a Manning book\n",
            "[[0.00132791]]\n",
            "[0.00132791]\n",
            "7c3455f77c8ff86110e07859215b6b97.jpg is a Manning book\n",
            "[[0.04519503]]\n",
            "[0.04519503]\n",
            "44b617061614853f0a492756e0a72df5.jpg is a Manning book\n",
            "[[0.00010056]]\n",
            "[0.00010056]\n",
            "45b16e5f9e6d7af59c62bbe82e2ceef8.jpg is a Manning book\n",
            "[[0.01312476]]\n",
            "[0.01312476]\n",
            "61c39504fbe9c641dd3c4f5ddb25d1b6.jpg is a Manning book\n",
            "[[0.01164016]]\n",
            "[0.01164016]\n",
            "67bf0162f8fffe603ab2171e15878aec.jpg is a Manning book\n",
            "[[0.0003437]]\n",
            "[0.0003437]\n",
            "596c1d3c55b73ed374a7fba8d856589e.jpg is a Manning book\n",
            "[[0.9999993]]\n",
            "[0.9999993]\n",
            "1491af1f0e5cd74158badf3ae05db33f.jpg is an O'Reilly book\n",
            "[[0.99998736]]\n",
            "[0.99998736]\n",
            "97298d078976333d5942e373b495f90c.jpg is an O'Reilly book\n",
            "[[0.99986506]]\n",
            "[0.99986506]\n",
            "472392b1da72c54c42aec8e3aaf00d49.png is an O'Reilly book\n",
            "[[0.9999974]]\n",
            "[0.9999974]\n",
            "19380782e637f2e76e8eb478380b5cad.png is an O'Reilly book\n",
            "[[0.9995721]]\n",
            "[0.9995721]\n",
            "aeb317ed514af833de85a70b49e98669.png is an O'Reilly book\n",
            "[[1.]]\n",
            "[1.]\n",
            "c9dc6eb7abc701c80e1a001966523221.png is an O'Reilly book\n",
            "[[0.99999976]]\n",
            "[0.99999976]\n",
            "c45a9a0aed6ef9fa7365394cecd5efa9.jpg is an O'Reilly book\n",
            "[[0.99998856]]\n",
            "[0.99998856]\n",
            "d3e78742f82478ac3d46a4a4bb32ccfd.png is an O'Reilly book\n",
            "[[0.9999502]]\n",
            "[0.9999502]\n",
            "d7bafb2748af0e6afffd0a7ec86ea28d.jpg is an O'Reilly book\n",
            "[[0.9999641]]\n",
            "[0.9999641]\n",
            "dcb33f06f6146235aeb6f455bde5f2b4.jpg is an O'Reilly book\n",
            "[[0.9999958]]\n",
            "[0.9999958]\n",
            "e62df8408d0da9a2824cef9593167645.png is an O'Reilly book\n",
            "[[1.]]\n",
            "[1.]\n",
            "eda7c92e8e0efb964f2dd0b02fd1b553.jpg is an O'Reilly book\n"
          ]
        }
      ]
    },
    {
      "cell_type": "code",
      "metadata": {
        "id": "2wZBd6npDtwg"
      },
      "source": [
        ""
      ],
      "execution_count": null,
      "outputs": []
    }
  ]
}